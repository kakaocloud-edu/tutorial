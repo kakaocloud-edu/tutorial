{
  "cells": [
    {
      "cell_type": "markdown",
      "metadata": {},
      "source": [
        "# Object Storage에서 Parquet 파일 읽기 예제\n"
      ]
    },
    {
      "cell_type": "markdown",
      "metadata": {},
      "source": [
        "## 1) 필요한 라이브러리 설치\n"
      ]
    },
    {
      "cell_type": "code",
      "execution_count": null,
      "metadata": {},
      "source": [
        "pip install boto3 pandas deltalake pyarrow==15.0.2"
      ],
      "outputs": []
    },
    {
      "cell_type": "markdown",
      "metadata": {},
      "source": [
        "## 2) Delta Lake에서 현재 스냅샷 로드 → 정렬 후 CSV/Parquet 저장\n",
        "\n",
        "- `S3_ACCESS_KEY`, `S3_SECRET_KEY` 에 실제 환경 변수 값으로 수정"
      ]
    },
    {
      "cell_type": "code",
      "execution_count": null,
      "metadata": {},
      "source": [
        "from deltalake import DeltaTable\n",
        "import pandas as pd\n",
        "\n",
        "\n",
        "S3_ACCESS_KEY = \"{S3_ACCESS_KEY_ID}\"\n",
        "S3_SECRET_KEY = \"{S3_SECRET_ACCESS_KEY}\"\n",
        "\n",
        "\n",
        "BUCKET = \"data-catalog-bucket\"\n",
        "PREFIX = \"data-catalog-dir/user_behavior_prediction_delta/\"\n",
        "\n",
        "dt = DeltaTable(\n",
        "    f\"s3://{BUCKET}/{PREFIX}\",\n",
        "    storage_options={\n",
        "        \"AWS_ACCESS_KEY_ID\": S3_ACCESS_KEY,        \n",
        "        \"AWS_SECRET_ACCESS_KEY\": S3_SECRET_KEY,\n",
        "        \"AWS_REGION\": \"kr-central-2\",\n",
        "        \"AWS_ENDPOINT_URL\": \"https://objectstorage.kr-central-2.kakaocloud.com\",\n",
        "    },\n",
        ")\n",
        "\n",
        "# Delta의 현재 스냅샷만 반영된 테이블 -> Pandas\n",
        "df_all = dt.to_pandas()  # 내부적으로 _delta_log 해석해서 active 파일만 읽음\n",
        "print(f\"[OK] loaded delta snapshot: rows={len(df_all)}\")\n",
        "\n",
        "# ---------- 정렬 (session_id -> timestamp) ----------\n",
        "# 정렬용 임시 datetime 컬럼\n",
        "df_all[\"_ts_for_sort\"] = pd.to_datetime(\n",
        "    df_all[\"timestamp\"], format=\"%Y-%m-%d %H:%M:%S\", errors=\"coerce\"\n",
        ")\n",
        "\n",
        "# event_id가 있으면 동률 타이브레이커로 추가\n",
        "sort_cols = [\"session_id\", \"_ts_for_sort\"] + ([\"event_id\"] if \"event_id\" in df_all.columns else [])\n",
        "\n",
        "df_sorted = df_all.sort_values(\n",
        "    by=sort_cols,\n",
        "    kind=\"stable\",\n",
        "    na_position=\"last\",\n",
        ")\n",
        "\n",
        "# 임시 컬럼 제거\n",
        "df_sorted = df_sorted.drop(columns=[\"_ts_for_sort\"])\n",
        "\n",
        "# ---- 1) CSV (사람이 보기용, 로컬) ----\n",
        "OUT_CSV_LOCAL = \"processed_user_behavior.sorted.csv\"\n",
        "df_sorted.to_csv(OUT_CSV_LOCAL, index=False, encoding=\"utf-8\")\n",
        "print(f\"[OK] CSV saved: {OUT_CSV_LOCAL}\")\n",
        "\n",
        "# ---- 2) Parquet (학습용, 로컬) ----\n",
        "OUT_PARQUET_LOCAL = \"processed_user_behavior.sorted.parquet\"\n",
        "df_sorted.to_parquet(OUT_PARQUET_LOCAL, index=False, engine=\"pyarrow\", compression=\"snappy\")\n",
        "print(f\"[OK] Parquet saved: {OUT_PARQUET_LOCAL}\")\n"
      ],
      "outputs": []
    }
  ],
  "nbformat": 4,
  "nbformat_minor": 5,
  "metadata": {
    "kernelspec": {
      "display_name": "Python 3 (ipykernel)",
      "language": "python",
      "name": "python3"
    },
    "language_info": {
      "name": "python",
      "version": "3.8.10",
      "file_extension": ".py",
      "mimetype": "text/x-python",
      "codemirror_mode": {
        "name": "ipython",
        "version": 3
      },
      "pygments_lexer": "ipython3"
    }
  }
}
