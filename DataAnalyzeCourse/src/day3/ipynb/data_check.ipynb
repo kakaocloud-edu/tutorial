{
  "cells": [
    {
      "cell_type": "markdown",
      "metadata": {},
      "source": [
        "# Object Storage에서 Parquet 파일 읽기 예제\n"
        ]
    },
    {
      "cell_type": "markdown",
      "metadata": {},
      "source": [
        "## 1) 필요한 라이브러리 설치\n"
      ]
    },
    {
      "cell_type": "code",
      "execution_count": null,
      "metadata": {},
      "source": [
        "!pip install boto3 pyarrow pandas"
      ],
      "outputs": []
    },
    {
      "cell_type": "markdown",
      "metadata": {},
      "source": [
        "## 2) AWS S3 클라이언트 생성\n",
        "\n",
        "- `ACCESS_KEY`, `SECRET_KEY` 자리에 실제 환경 변수 값을 사용하세요."
      ]
    },
    {
      "cell_type": "code",
      "execution_count": null,
      "metadata": {},
      "source": [
        "import boto3\n",
        "\n",
        "ACCESS_KEY = \"{AWS_ACCESS_KEY_ID}\"\n",
        "SECRET_KEY = \"{AWS_SECRET_ACCESS_KEY}\"\n",
        "\n",
        "s3 = boto3.client(\n",
        "    service_name=\"s3\",\n",
        "    region_name=\"kr-central-2\",\n",
        "    endpoint_url=\"https://objectstorage.kr-central-2.kakaocloud.com\",\n",
        "    aws_access_key_id=ACCESS_KEY,\n",
        "    aws_secret_access_key=SECRET_KEY\n",
        ")"
      ],
      "outputs": []
    },
    {
      "cell_type": "markdown",
      "metadata": {},
      "source": [
        "## 3) Parquet 파일 키 목록 가져오기\n"
      ]
    },
    {
      "cell_type": "code",
      "execution_count": null,
      "metadata": {},
      "source": [
        "import io\n",
        "import random\n",
        "import pyarrow.parquet as pq\n",
        "import pandas as pd\n",
        "\n",
        "bucket_name = \"data-catalog-bucket\"\n",
        "prefix = \"data-catalog-dir/user_behavior_prediction_batch/\"\n",
        "\n",
        "resp = s3.list_objects_v2(Bucket=bucket_name, Prefix=prefix)\n",
        "keys = [obj[\"Key\"] for obj in resp.get(\"Contents\", []) if obj[\"Key\"].endswith(\".parquet\")]\n",
        "\n",
        "if not keys:\n",
        "    raise ValueError(f\"No parquet files found under prefix {prefix!r}\")"
      ],
      "outputs": []
    },
    {
      "cell_type": "markdown",
      "metadata": {},
      "source": [
        "## 4) Parquet 파일 중 하나를 랜덤으로 선택\n"
      ]
    },
    {
      "cell_type": "code",
      "execution_count": null,
      "metadata": {},
      "source": [
        "random_key = random.choice(keys)"
      ],
      "outputs": []
    },
    {
      "cell_type": "markdown",
      "metadata": {},
      "source": [
        "## 5) 선택한 Parquet 파일 다운로드 및 DataFrame 변환\n",
        "\n",
        "1. S3에서 객체를 다운로드하여 메모리 버퍼(`BytesIO`)에 로드\n",
        "2. PyArrow로 Parquet 테이블로 읽기\n",
        "3. Pandas DataFrame으로 변환 후 상위 10개 행 출력"
      ]
    },
    {
      "cell_type": "code",
      "execution_count": null,
      "metadata": {},
      "source": [
        "obj = s3.get_object(Bucket=bucket_name, Key=random_key)\n",
        "buf = io.BytesIO(obj[\"Body\"].read())\n",
        "table = pq.read_table(buf)\n",
        "df = table.to_pandas()\n",
        "\n",
        "df.head(10)"
      ],
      "outputs": []
    }
  ],
  "nbformat": 4,
  "nbformat_minor": 5,
  "metadata": {
    "kernelspec": {
      "display_name": "Python 3 (ipykernel)",
      "language": "python",
      "name": "python3"
    },
    "language_info": {
      "name": "python",
      "version": "3.8.10",
      "file_extension": ".py",
      "mimetype": "text/x-python",
      "codemirror_mode": {
        "name": "ipython",
        "version": 3
      },
      "pygments_lexer": "ipython3"
    }
  }
}
