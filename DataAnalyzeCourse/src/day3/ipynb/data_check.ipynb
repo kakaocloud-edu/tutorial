{
  "cells": [
    {
      "cell_type": "markdown",
      "metadata": {},
      "source": [
        "# Object Storage에서 Parquet 파일 읽기 예제\n"
        ]
    },
    {
      "cell_type": "markdown",
      "metadata": {},
      "source": [
        "## 1) 필요한 라이브러리 설치\n"
      ]
    },
    {
      "cell_type": "code",
      "execution_count": null,
      "metadata": {},
      "source": [
        "pip install boto3 pandas deltalake pyarrow==15.0.2"
      ],
      "outputs": []
    },
    {
      "cell_type": "markdown",
      "metadata": {},
      "source": [
        "## 2) AWS S3 클라이언트 생성\n",
        "\n",
        "- `S3_ACCESS_KEY`, `S3_SECRET_KEY` 에 실제 환경 변수 값으로 수정"
      ]
    },
    {
      "cell_type": "code",
      "execution_count": null,
      "metadata": {},
      "source": [
        "import boto3\n",
        "\n",
        "ACCESS_KEY = \"{S3_ACCESS_KEY_ID}\"\n",
        "SECRET_KEY = \"{S3_SECRET_ACCESS_KEY}\"\n",
        "\n",
        "s3 = boto3.client(\n",
        "    service_name=\"s3\",\n",
        "    region_name=\"kr-central-2\",\n",
        "    endpoint_url=\"https://objectstorage.kr-central-2.kakaocloud.com\",\n",
        "    aws_access_key_id=ACCESS_KEY,\n",
        "    aws_secret_access_key=SECRET_KEY\n",
        ")"
      ],
      "outputs": []
    }
  ],
  "nbformat": 4,
  "nbformat_minor": 5,
  "metadata": {
    "kernelspec": {
      "display_name": "Python 3 (ipykernel)",
      "language": "python",
      "name": "python3"
    },
    "language_info": {
      "name": "python",
      "version": "3.8.10",
      "file_extension": ".py",
      "mimetype": "text/x-python",
      "codemirror_mode": {
        "name": "ipython",
        "version": 3
      },
      "pygments_lexer": "ipython3"
    }
  }
}
