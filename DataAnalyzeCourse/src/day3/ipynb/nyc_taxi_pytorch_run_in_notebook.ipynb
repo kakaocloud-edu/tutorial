{
 "cells": [
  {
   "cell_type": "markdown",
   "id": "3ed6dc66-0500-4606-9d46-eb022b7d693f",
   "metadata": {
    "execution": {
     "iopub.execute_input": "2023-04-11T12:30:19.325909Z",
     "iopub.status.busy": "2023-04-11T12:30:19.325616Z",
     "iopub.status.idle": "2023-04-11T12:30:19.329408Z",
     "shell.execute_reply": "2023-04-11T12:30:19.328651Z",
     "shell.execute_reply.started": "2023-04-11T12:30:19.325871Z"
    },
    "tags": []
   },
   "source": [
    "# 노트북에서 예측 모델 학습하기"
   ]
  },
  {
   "cell_type": "code",
   "execution_count": 1,
   "id": "71070ada-ad74-4725-bf2f-93423f036e11",
   "metadata": {
    "tags": []
   },
   "outputs": [],
   "source": [
    "import torch \n",
    "import torch.nn as nn\n",
    "import pandas as pd\n",
    "import numpy as np\n",
    "import matplotlib.pyplot as plt"
   ]
  },
  {
   "cell_type": "code",
   "execution_count": 2,
   "id": "f2ceb83a-d431-49a5-aab2-437bf51c9396",
   "metadata": {
    "tags": []
   },
   "outputs": [
    {
     "name": "stdout",
     "output_type": "stream",
     "text": [
      "No cuda available\n"
     ]
    }
   ],
   "source": [
    "device = torch.device('cpu')\n",
    "\n",
    "if torch.cuda.is_available():\n",
    "    device = torch.device('cuda')\n",
    "    print(\"Train on GPU.\")\n",
    "else:\n",
    "    print(\"No cuda available\")"
   ]
  },
  {
   "cell_type": "markdown",
   "id": "f64359e5-99e6-4910-8958-a9153e3dcb32",
   "metadata": {
    "tags": []
   },
   "source": [
    "## 데이터세트 다운로드"
   ]
  },
  {
   "cell_type": "code",
   "execution_count": 3,
   "id": "30f26245-98a1-42ff-8297-cfc0553c53a2",
   "metadata": {
    "tags": []
   },
   "outputs": [
    {
     "name": "stdout",
     "output_type": "stream",
     "text": [
      "--2024-09-25 10:16:16--  https://objectstorage.kr-central-2.kakaocloud.com/v1/252267c6b6f745eba8b850ec047b673e/kbm-files/guide_docs/hands_on/nyc_taxi_fare/data/train.csv\n",
      "Resolving objectstorage.kr-central-2.kakaocloud.com (objectstorage.kr-central-2.kakaocloud.com)... 61.109.235.79\n",
      "Connecting to objectstorage.kr-central-2.kakaocloud.com (objectstorage.kr-central-2.kakaocloud.com)|61.109.235.79|:443... connected.\n",
      "HTTP request sent, awaiting response... 200 OK\n",
      "Length: 105778213 (101M) [text/csv]\n",
      "Saving to: ‘train.csv’\n",
      "\n",
      "train.csv           100%[===================>] 100.88M   342MB/s    in 0.3s    \n",
      "\n",
      "2024-09-25 10:16:17 (342 MB/s) - ‘train.csv’ saved [105778213/105778213]\n",
      "\n"
     ]
    }
   ],
   "source": [
    "! wget https://objectstorage.kr-central-2.kakaocloud.com/v1/252267c6b6f745eba8b850ec047b673e/kbm-files/guide_docs/hands_on/nyc_taxi_fare/data/train.csv -O train.csv"
   ]
  },
  {
   "cell_type": "code",
   "execution_count": 4,
   "id": "185bbfa8-0d7f-4a07-a1c0-e24ed5633b90",
   "metadata": {
    "tags": []
   },
   "outputs": [
    {
     "name": "stdout",
     "output_type": "stream",
     "text": [
      "                                  key  fare_amount          pickup_datetime  \\\n",
      "0         2009-06-15 17:26:21.0000001          4.5  2009-06-15 17:26:21 UTC   \n",
      "1         2010-01-05 16:52:16.0000002         16.9  2010-01-05 16:52:16 UTC   \n",
      "2        2011-08-18 00:35:00.00000049          5.7  2011-08-18 00:35:00 UTC   \n",
      "3         2012-04-21 04:30:42.0000001          7.7  2012-04-21 04:30:42 UTC   \n",
      "4       2010-03-09 07:51:00.000000135          5.3  2010-03-09 07:51:00 UTC   \n",
      "...                               ...          ...                      ...   \n",
      "999995    2014-09-13 21:44:38.0000001          7.0  2014-09-13 21:44:38 UTC   \n",
      "999996    2010-09-20 14:50:37.0000002          7.3  2010-09-20 14:50:37 UTC   \n",
      "999997  2013-04-26 14:03:00.000000118         10.5  2013-04-26 14:03:00 UTC   \n",
      "999998   2011-07-08 00:29:00.00000099          6.9  2011-07-08 00:29:00 UTC   \n",
      "999999   2009-12-31 14:30:00.00000021          4.1  2009-12-31 14:30:00 UTC   \n",
      "\n",
      "        pickup_longitude  pickup_latitude  dropoff_longitude  \\\n",
      "0             -73.844311        40.721319         -73.841610   \n",
      "1             -74.016048        40.711303         -73.979268   \n",
      "2             -73.982738        40.761270         -73.991242   \n",
      "3             -73.987130        40.733143         -73.991567   \n",
      "4             -73.968095        40.768008         -73.956655   \n",
      "...                  ...              ...                ...   \n",
      "999995        -73.976676        40.785630         -73.959196   \n",
      "999996        -73.992103        40.671385         -73.992103   \n",
      "999997        -73.978423        40.751135         -73.993397   \n",
      "999998        -73.980317        40.759482         -73.976832   \n",
      "999999        -74.006635        40.741598         -73.999450   \n",
      "\n",
      "        dropoff_latitude  passenger_count  \n",
      "0              40.712278                1  \n",
      "1              40.782004                1  \n",
      "2              40.750562                2  \n",
      "3              40.758092                1  \n",
      "4              40.783762                1  \n",
      "...                  ...              ...  \n",
      "999995         40.775114                1  \n",
      "999996         40.671385                2  \n",
      "999997         40.762197                5  \n",
      "999998         40.743122                1  \n",
      "999999         40.745702                1  \n",
      "\n",
      "[1000000 rows x 8 columns]\n"
     ]
    }
   ],
   "source": [
    "df = pd.read_csv(\"train.csv\", index_col=False)\n",
    "print(df)"
   ]
  },
  {
   "cell_type": "code",
   "execution_count": 5,
   "id": "020fe5a5-b05e-47d3-98e4-f504b0f60e07",
   "metadata": {
    "tags": []
   },
   "outputs": [
    {
     "data": {
      "text/html": [
       "<div>\n",
       "<style scoped>\n",
       "    .dataframe tbody tr th:only-of-type {\n",
       "        vertical-align: middle;\n",
       "    }\n",
       "\n",
       "    .dataframe tbody tr th {\n",
       "        vertical-align: top;\n",
       "    }\n",
       "\n",
       "    .dataframe thead th {\n",
       "        text-align: right;\n",
       "    }\n",
       "</style>\n",
       "<table border=\"1\" class=\"dataframe\">\n",
       "  <thead>\n",
       "    <tr style=\"text-align: right;\">\n",
       "      <th></th>\n",
       "      <th>fare_amount</th>\n",
       "      <th>pickup_longitude</th>\n",
       "      <th>pickup_latitude</th>\n",
       "      <th>dropoff_longitude</th>\n",
       "      <th>dropoff_latitude</th>\n",
       "      <th>passenger_count</th>\n",
       "    </tr>\n",
       "  </thead>\n",
       "  <tbody>\n",
       "    <tr>\n",
       "      <th>count</th>\n",
       "      <td>1000000.000000</td>\n",
       "      <td>1000000.000000</td>\n",
       "      <td>1000000.000000</td>\n",
       "      <td>999990.000000</td>\n",
       "      <td>999990.000000</td>\n",
       "      <td>1000000.000000</td>\n",
       "    </tr>\n",
       "    <tr>\n",
       "      <th>mean</th>\n",
       "      <td>11.348079</td>\n",
       "      <td>-72.526640</td>\n",
       "      <td>39.929008</td>\n",
       "      <td>-72.527860</td>\n",
       "      <td>39.919954</td>\n",
       "      <td>1.684924</td>\n",
       "    </tr>\n",
       "    <tr>\n",
       "      <th>std</th>\n",
       "      <td>9.822090</td>\n",
       "      <td>12.057937</td>\n",
       "      <td>7.626154</td>\n",
       "      <td>11.324494</td>\n",
       "      <td>8.201418</td>\n",
       "      <td>1.323911</td>\n",
       "    </tr>\n",
       "    <tr>\n",
       "      <th>min</th>\n",
       "      <td>-44.900000</td>\n",
       "      <td>-3377.680935</td>\n",
       "      <td>-3116.285383</td>\n",
       "      <td>-3383.296608</td>\n",
       "      <td>-3114.338567</td>\n",
       "      <td>0.000000</td>\n",
       "    </tr>\n",
       "    <tr>\n",
       "      <th>25%</th>\n",
       "      <td>6.000000</td>\n",
       "      <td>-73.992060</td>\n",
       "      <td>40.734965</td>\n",
       "      <td>-73.991385</td>\n",
       "      <td>40.734046</td>\n",
       "      <td>1.000000</td>\n",
       "    </tr>\n",
       "    <tr>\n",
       "      <th>50%</th>\n",
       "      <td>8.500000</td>\n",
       "      <td>-73.981792</td>\n",
       "      <td>40.752695</td>\n",
       "      <td>-73.980135</td>\n",
       "      <td>40.753166</td>\n",
       "      <td>1.000000</td>\n",
       "    </tr>\n",
       "    <tr>\n",
       "      <th>75%</th>\n",
       "      <td>12.500000</td>\n",
       "      <td>-73.967094</td>\n",
       "      <td>40.767154</td>\n",
       "      <td>-73.963654</td>\n",
       "      <td>40.768129</td>\n",
       "      <td>2.000000</td>\n",
       "    </tr>\n",
       "    <tr>\n",
       "      <th>max</th>\n",
       "      <td>500.000000</td>\n",
       "      <td>2522.271325</td>\n",
       "      <td>2621.628430</td>\n",
       "      <td>45.581619</td>\n",
       "      <td>1651.553433</td>\n",
       "      <td>208.000000</td>\n",
       "    </tr>\n",
       "  </tbody>\n",
       "</table>\n",
       "</div>"
      ],
      "text/plain": [
       "          fare_amount  pickup_longitude  pickup_latitude  dropoff_longitude  \\\n",
       "count  1000000.000000    1000000.000000   1000000.000000      999990.000000   \n",
       "mean        11.348079        -72.526640        39.929008         -72.527860   \n",
       "std          9.822090         12.057937         7.626154          11.324494   \n",
       "min        -44.900000      -3377.680935     -3116.285383       -3383.296608   \n",
       "25%          6.000000        -73.992060        40.734965         -73.991385   \n",
       "50%          8.500000        -73.981792        40.752695         -73.980135   \n",
       "75%         12.500000        -73.967094        40.767154         -73.963654   \n",
       "max        500.000000       2522.271325      2621.628430          45.581619   \n",
       "\n",
       "       dropoff_latitude  passenger_count  \n",
       "count     999990.000000   1000000.000000  \n",
       "mean          39.919954         1.684924  \n",
       "std            8.201418         1.323911  \n",
       "min        -3114.338567         0.000000  \n",
       "25%           40.734046         1.000000  \n",
       "50%           40.753166         1.000000  \n",
       "75%           40.768129         2.000000  \n",
       "max         1651.553433       208.000000  "
      ]
     },
     "execution_count": 5,
     "metadata": {},
     "output_type": "execute_result"
    }
   ],
   "source": [
    "df.describe()"
   ]
  },
  {
   "cell_type": "markdown",
   "id": "4428a23d-0b1e-4073-b245-ab276c18685e",
   "metadata": {},
   "source": [
    "## 데이터 전처리"
   ]
  },
  {
   "cell_type": "code",
   "execution_count": 6,
   "id": "67c102ae-aa1c-4b54-a009-b3f8fc855aa0",
   "metadata": {
    "tags": []
   },
   "outputs": [],
   "source": [
    "def haversine_distance(df, lat1, long1, lat2, long2):\n",
    "    \"\"\"\n",
    "    Calculates the haversine distance between 2 sets of GPS coordinates in df\n",
    "    \"\"\"\n",
    "    r = 6371  # average radius of Earth in kilometers\n",
    "       \n",
    "    phi1 = np.radians(df[lat1])  # converting the longitude and latidtude into numpy radians\n",
    "    phi2 = np.radians(df[lat2])\n",
    "    \n",
    "    delta_phi = np.radians(df[lat2]-df[lat1])\n",
    "    delta_lambda = np.radians(df[long2]-df[long1])\n",
    "     \n",
    "    a = np.sin(delta_phi/2)**2 + np.cos(phi1) * np.cos(phi2) * np.sin(delta_lambda/2)**2\n",
    "    c = 2 * np.arctan2(np.sqrt(a), np.sqrt(1-a))\n",
    "    d = (r * c) # in kilometers\n",
    "\n",
    "    return d"
   ]
  },
  {
   "cell_type": "code",
   "execution_count": 7,
   "id": "944119b9-8350-4162-b5f4-ef1083d2ca84",
   "metadata": {
    "tags": []
   },
   "outputs": [],
   "source": [
    "df['distance_km'] = haversine_distance(df, 'pickup_latitude', 'pickup_longitude','dropoff_latitude','dropoff_longitude')"
   ]
  },
  {
   "cell_type": "code",
   "execution_count": 8,
   "id": "dbf0a02d-b19f-4b20-bb0b-3d204595ac4a",
   "metadata": {
    "tags": []
   },
   "outputs": [
    {
     "data": {
      "text/html": [
       "<div>\n",
       "<style scoped>\n",
       "    .dataframe tbody tr th:only-of-type {\n",
       "        vertical-align: middle;\n",
       "    }\n",
       "\n",
       "    .dataframe tbody tr th {\n",
       "        vertical-align: top;\n",
       "    }\n",
       "\n",
       "    .dataframe thead th {\n",
       "        text-align: right;\n",
       "    }\n",
       "</style>\n",
       "<table border=\"1\" class=\"dataframe\">\n",
       "  <thead>\n",
       "    <tr style=\"text-align: right;\">\n",
       "      <th></th>\n",
       "      <th>fare_amount</th>\n",
       "      <th>pickup_datetime</th>\n",
       "      <th>pickup_longitude</th>\n",
       "      <th>pickup_latitude</th>\n",
       "      <th>dropoff_longitude</th>\n",
       "      <th>dropoff_latitude</th>\n",
       "      <th>passenger_count</th>\n",
       "      <th>distance_km</th>\n",
       "    </tr>\n",
       "  </thead>\n",
       "  <tbody>\n",
       "    <tr>\n",
       "      <th>0</th>\n",
       "      <td>4.5</td>\n",
       "      <td>2009-06-15 17:26:21 UTC</td>\n",
       "      <td>-73.844311</td>\n",
       "      <td>40.721319</td>\n",
       "      <td>-73.841610</td>\n",
       "      <td>40.712278</td>\n",
       "      <td>1</td>\n",
       "      <td>1.030764</td>\n",
       "    </tr>\n",
       "    <tr>\n",
       "      <th>1</th>\n",
       "      <td>16.9</td>\n",
       "      <td>2010-01-05 16:52:16 UTC</td>\n",
       "      <td>-74.016048</td>\n",
       "      <td>40.711303</td>\n",
       "      <td>-73.979268</td>\n",
       "      <td>40.782004</td>\n",
       "      <td>1</td>\n",
       "      <td>8.450134</td>\n",
       "    </tr>\n",
       "    <tr>\n",
       "      <th>2</th>\n",
       "      <td>5.7</td>\n",
       "      <td>2011-08-18 00:35:00 UTC</td>\n",
       "      <td>-73.982738</td>\n",
       "      <td>40.761270</td>\n",
       "      <td>-73.991242</td>\n",
       "      <td>40.750562</td>\n",
       "      <td>2</td>\n",
       "      <td>1.389525</td>\n",
       "    </tr>\n",
       "    <tr>\n",
       "      <th>3</th>\n",
       "      <td>7.7</td>\n",
       "      <td>2012-04-21 04:30:42 UTC</td>\n",
       "      <td>-73.987130</td>\n",
       "      <td>40.733143</td>\n",
       "      <td>-73.991567</td>\n",
       "      <td>40.758092</td>\n",
       "      <td>1</td>\n",
       "      <td>2.799270</td>\n",
       "    </tr>\n",
       "    <tr>\n",
       "      <th>4</th>\n",
       "      <td>5.3</td>\n",
       "      <td>2010-03-09 07:51:00 UTC</td>\n",
       "      <td>-73.968095</td>\n",
       "      <td>40.768008</td>\n",
       "      <td>-73.956655</td>\n",
       "      <td>40.783762</td>\n",
       "      <td>1</td>\n",
       "      <td>1.999157</td>\n",
       "    </tr>\n",
       "    <tr>\n",
       "      <th>...</th>\n",
       "      <td>...</td>\n",
       "      <td>...</td>\n",
       "      <td>...</td>\n",
       "      <td>...</td>\n",
       "      <td>...</td>\n",
       "      <td>...</td>\n",
       "      <td>...</td>\n",
       "      <td>...</td>\n",
       "    </tr>\n",
       "    <tr>\n",
       "      <th>999995</th>\n",
       "      <td>7.0</td>\n",
       "      <td>2014-09-13 21:44:38 UTC</td>\n",
       "      <td>-73.976676</td>\n",
       "      <td>40.785630</td>\n",
       "      <td>-73.959196</td>\n",
       "      <td>40.775114</td>\n",
       "      <td>1</td>\n",
       "      <td>1.879763</td>\n",
       "    </tr>\n",
       "    <tr>\n",
       "      <th>999996</th>\n",
       "      <td>7.3</td>\n",
       "      <td>2010-09-20 14:50:37 UTC</td>\n",
       "      <td>-73.992103</td>\n",
       "      <td>40.671385</td>\n",
       "      <td>-73.992103</td>\n",
       "      <td>40.671385</td>\n",
       "      <td>2</td>\n",
       "      <td>0.000000</td>\n",
       "    </tr>\n",
       "    <tr>\n",
       "      <th>999997</th>\n",
       "      <td>10.5</td>\n",
       "      <td>2013-04-26 14:03:00 UTC</td>\n",
       "      <td>-73.978423</td>\n",
       "      <td>40.751135</td>\n",
       "      <td>-73.993397</td>\n",
       "      <td>40.762197</td>\n",
       "      <td>5</td>\n",
       "      <td>1.761741</td>\n",
       "    </tr>\n",
       "    <tr>\n",
       "      <th>999998</th>\n",
       "      <td>6.9</td>\n",
       "      <td>2011-07-08 00:29:00 UTC</td>\n",
       "      <td>-73.980317</td>\n",
       "      <td>40.759482</td>\n",
       "      <td>-73.976832</td>\n",
       "      <td>40.743122</td>\n",
       "      <td>1</td>\n",
       "      <td>1.842683</td>\n",
       "    </tr>\n",
       "    <tr>\n",
       "      <th>999999</th>\n",
       "      <td>4.1</td>\n",
       "      <td>2009-12-31 14:30:00 UTC</td>\n",
       "      <td>-74.006635</td>\n",
       "      <td>40.741598</td>\n",
       "      <td>-73.999450</td>\n",
       "      <td>40.745702</td>\n",
       "      <td>1</td>\n",
       "      <td>0.758051</td>\n",
       "    </tr>\n",
       "  </tbody>\n",
       "</table>\n",
       "<p>1000000 rows × 8 columns</p>\n",
       "</div>"
      ],
      "text/plain": [
       "        fare_amount          pickup_datetime  pickup_longitude  \\\n",
       "0               4.5  2009-06-15 17:26:21 UTC        -73.844311   \n",
       "1              16.9  2010-01-05 16:52:16 UTC        -74.016048   \n",
       "2               5.7  2011-08-18 00:35:00 UTC        -73.982738   \n",
       "3               7.7  2012-04-21 04:30:42 UTC        -73.987130   \n",
       "4               5.3  2010-03-09 07:51:00 UTC        -73.968095   \n",
       "...             ...                      ...               ...   \n",
       "999995          7.0  2014-09-13 21:44:38 UTC        -73.976676   \n",
       "999996          7.3  2010-09-20 14:50:37 UTC        -73.992103   \n",
       "999997         10.5  2013-04-26 14:03:00 UTC        -73.978423   \n",
       "999998          6.9  2011-07-08 00:29:00 UTC        -73.980317   \n",
       "999999          4.1  2009-12-31 14:30:00 UTC        -74.006635   \n",
       "\n",
       "        pickup_latitude  dropoff_longitude  dropoff_latitude  passenger_count  \\\n",
       "0             40.721319         -73.841610         40.712278                1   \n",
       "1             40.711303         -73.979268         40.782004                1   \n",
       "2             40.761270         -73.991242         40.750562                2   \n",
       "3             40.733143         -73.991567         40.758092                1   \n",
       "4             40.768008         -73.956655         40.783762                1   \n",
       "...                 ...                ...               ...              ...   \n",
       "999995        40.785630         -73.959196         40.775114                1   \n",
       "999996        40.671385         -73.992103         40.671385                2   \n",
       "999997        40.751135         -73.993397         40.762197                5   \n",
       "999998        40.759482         -73.976832         40.743122                1   \n",
       "999999        40.741598         -73.999450         40.745702                1   \n",
       "\n",
       "        distance_km  \n",
       "0          1.030764  \n",
       "1          8.450134  \n",
       "2          1.389525  \n",
       "3          2.799270  \n",
       "4          1.999157  \n",
       "...             ...  \n",
       "999995     1.879763  \n",
       "999996     0.000000  \n",
       "999997     1.761741  \n",
       "999998     1.842683  \n",
       "999999     0.758051  \n",
       "\n",
       "[1000000 rows x 8 columns]"
      ]
     },
     "execution_count": 8,
     "metadata": {},
     "output_type": "execute_result"
    }
   ],
   "source": [
    "df.drop(columns=['key'], inplace=True, errors='ignore')\n",
    "df"
   ]
  },
  {
   "cell_type": "code",
   "execution_count": 9,
   "id": "552eee1b-6ece-45cf-bd43-9e48fa703d8e",
   "metadata": {
    "tags": []
   },
   "outputs": [],
   "source": [
    "df['pickup_datetime'] = pd.to_datetime(df['pickup_datetime'])"
   ]
  },
  {
   "cell_type": "code",
   "execution_count": 10,
   "id": "909b7069-eb6f-4325-b6e0-cc167d5c91b8",
   "metadata": {
    "tags": []
   },
   "outputs": [
    {
     "name": "stdout",
     "output_type": "stream",
     "text": [
      "<class 'pandas.core.frame.DataFrame'>\n",
      "RangeIndex: 1000000 entries, 0 to 999999\n",
      "Data columns (total 8 columns):\n",
      " #   Column             Non-Null Count    Dtype              \n",
      "---  ------             --------------    -----              \n",
      " 0   fare_amount        1000000 non-null  float64            \n",
      " 1   pickup_datetime    1000000 non-null  datetime64[ns, UTC]\n",
      " 2   pickup_longitude   1000000 non-null  float64            \n",
      " 3   pickup_latitude    1000000 non-null  float64            \n",
      " 4   dropoff_longitude  999990 non-null   float64            \n",
      " 5   dropoff_latitude   999990 non-null   float64            \n",
      " 6   passenger_count    1000000 non-null  int64              \n",
      " 7   distance_km        999990 non-null   float64            \n",
      "dtypes: datetime64[ns, UTC](1), float64(6), int64(1)\n",
      "memory usage: 61.0 MB\n"
     ]
    }
   ],
   "source": [
    "df.info()"
   ]
  },
  {
   "cell_type": "code",
   "execution_count": 11,
   "id": "fbcf4e33-532e-4c76-a9a3-965fee9fb438",
   "metadata": {
    "tags": []
   },
   "outputs": [],
   "source": [
    "df['edtdate'] = df['pickup_datetime'] - pd.Timedelta(hours=4)"
   ]
  },
  {
   "cell_type": "code",
   "execution_count": 12,
   "id": "5795fdb4-3856-4b54-9c84-722761ac459d",
   "metadata": {
    "scrolled": true,
    "tags": []
   },
   "outputs": [],
   "source": [
    "df['Hour'] = df['edtdate'].dt.hour\n",
    "df['am_or_pm'] = np.where(df['Hour']<12, 'am', 'pm')\n",
    "df['weekday'] = df['edtdate'].dt.strftime(\"%a\")"
   ]
  },
  {
   "cell_type": "code",
   "execution_count": 13,
   "id": "db191936-6c44-43bd-b9a2-68e828d04d30",
   "metadata": {
    "tags": []
   },
   "outputs": [
    {
     "data": {
      "text/html": [
       "<div>\n",
       "<style scoped>\n",
       "    .dataframe tbody tr th:only-of-type {\n",
       "        vertical-align: middle;\n",
       "    }\n",
       "\n",
       "    .dataframe tbody tr th {\n",
       "        vertical-align: top;\n",
       "    }\n",
       "\n",
       "    .dataframe thead th {\n",
       "        text-align: right;\n",
       "    }\n",
       "</style>\n",
       "<table border=\"1\" class=\"dataframe\">\n",
       "  <thead>\n",
       "    <tr style=\"text-align: right;\">\n",
       "      <th></th>\n",
       "      <th>fare_amount</th>\n",
       "      <th>pickup_datetime</th>\n",
       "      <th>pickup_longitude</th>\n",
       "      <th>pickup_latitude</th>\n",
       "      <th>dropoff_longitude</th>\n",
       "      <th>dropoff_latitude</th>\n",
       "      <th>passenger_count</th>\n",
       "      <th>distance_km</th>\n",
       "      <th>edtdate</th>\n",
       "      <th>Hour</th>\n",
       "      <th>am_or_pm</th>\n",
       "      <th>weekday</th>\n",
       "    </tr>\n",
       "  </thead>\n",
       "  <tbody>\n",
       "    <tr>\n",
       "      <th>0</th>\n",
       "      <td>4.5</td>\n",
       "      <td>2009-06-15 17:26:21+00:00</td>\n",
       "      <td>-73.844311</td>\n",
       "      <td>40.721319</td>\n",
       "      <td>-73.841610</td>\n",
       "      <td>40.712278</td>\n",
       "      <td>1</td>\n",
       "      <td>1.030764</td>\n",
       "      <td>2009-06-15 13:26:21+00:00</td>\n",
       "      <td>13</td>\n",
       "      <td>pm</td>\n",
       "      <td>Mon</td>\n",
       "    </tr>\n",
       "    <tr>\n",
       "      <th>1</th>\n",
       "      <td>16.9</td>\n",
       "      <td>2010-01-05 16:52:16+00:00</td>\n",
       "      <td>-74.016048</td>\n",
       "      <td>40.711303</td>\n",
       "      <td>-73.979268</td>\n",
       "      <td>40.782004</td>\n",
       "      <td>1</td>\n",
       "      <td>8.450134</td>\n",
       "      <td>2010-01-05 12:52:16+00:00</td>\n",
       "      <td>12</td>\n",
       "      <td>pm</td>\n",
       "      <td>Tue</td>\n",
       "    </tr>\n",
       "    <tr>\n",
       "      <th>2</th>\n",
       "      <td>5.7</td>\n",
       "      <td>2011-08-18 00:35:00+00:00</td>\n",
       "      <td>-73.982738</td>\n",
       "      <td>40.761270</td>\n",
       "      <td>-73.991242</td>\n",
       "      <td>40.750562</td>\n",
       "      <td>2</td>\n",
       "      <td>1.389525</td>\n",
       "      <td>2011-08-17 20:35:00+00:00</td>\n",
       "      <td>20</td>\n",
       "      <td>pm</td>\n",
       "      <td>Wed</td>\n",
       "    </tr>\n",
       "    <tr>\n",
       "      <th>3</th>\n",
       "      <td>7.7</td>\n",
       "      <td>2012-04-21 04:30:42+00:00</td>\n",
       "      <td>-73.987130</td>\n",
       "      <td>40.733143</td>\n",
       "      <td>-73.991567</td>\n",
       "      <td>40.758092</td>\n",
       "      <td>1</td>\n",
       "      <td>2.799270</td>\n",
       "      <td>2012-04-21 00:30:42+00:00</td>\n",
       "      <td>0</td>\n",
       "      <td>am</td>\n",
       "      <td>Sat</td>\n",
       "    </tr>\n",
       "    <tr>\n",
       "      <th>4</th>\n",
       "      <td>5.3</td>\n",
       "      <td>2010-03-09 07:51:00+00:00</td>\n",
       "      <td>-73.968095</td>\n",
       "      <td>40.768008</td>\n",
       "      <td>-73.956655</td>\n",
       "      <td>40.783762</td>\n",
       "      <td>1</td>\n",
       "      <td>1.999157</td>\n",
       "      <td>2010-03-09 03:51:00+00:00</td>\n",
       "      <td>3</td>\n",
       "      <td>am</td>\n",
       "      <td>Tue</td>\n",
       "    </tr>\n",
       "  </tbody>\n",
       "</table>\n",
       "</div>"
      ],
      "text/plain": [
       "   fare_amount           pickup_datetime  pickup_longitude  pickup_latitude  \\\n",
       "0          4.5 2009-06-15 17:26:21+00:00        -73.844311        40.721319   \n",
       "1         16.9 2010-01-05 16:52:16+00:00        -74.016048        40.711303   \n",
       "2          5.7 2011-08-18 00:35:00+00:00        -73.982738        40.761270   \n",
       "3          7.7 2012-04-21 04:30:42+00:00        -73.987130        40.733143   \n",
       "4          5.3 2010-03-09 07:51:00+00:00        -73.968095        40.768008   \n",
       "\n",
       "   dropoff_longitude  dropoff_latitude  passenger_count  distance_km  \\\n",
       "0         -73.841610         40.712278                1     1.030764   \n",
       "1         -73.979268         40.782004                1     8.450134   \n",
       "2         -73.991242         40.750562                2     1.389525   \n",
       "3         -73.991567         40.758092                1     2.799270   \n",
       "4         -73.956655         40.783762                1     1.999157   \n",
       "\n",
       "                    edtdate  Hour am_or_pm weekday  \n",
       "0 2009-06-15 13:26:21+00:00    13       pm     Mon  \n",
       "1 2010-01-05 12:52:16+00:00    12       pm     Tue  \n",
       "2 2011-08-17 20:35:00+00:00    20       pm     Wed  \n",
       "3 2012-04-21 00:30:42+00:00     0       am     Sat  \n",
       "4 2010-03-09 03:51:00+00:00     3       am     Tue  "
      ]
     },
     "execution_count": 13,
     "metadata": {},
     "output_type": "execute_result"
    }
   ],
   "source": [
    "df.head()"
   ]
  },
  {
   "cell_type": "code",
   "execution_count": 14,
   "id": "42dc372c-e982-482b-ba0c-75af7f02542d",
   "metadata": {
    "tags": []
   },
   "outputs": [
    {
     "data": {
      "text/plain": [
       "Index(['fare_amount', 'pickup_datetime', 'pickup_longitude', 'pickup_latitude',\n",
       "       'dropoff_longitude', 'dropoff_latitude', 'passenger_count',\n",
       "       'distance_km', 'edtdate', 'Hour', 'am_or_pm', 'weekday'],\n",
       "      dtype='object')"
      ]
     },
     "execution_count": 14,
     "metadata": {},
     "output_type": "execute_result"
    }
   ],
   "source": [
    "df.columns"
   ]
  },
  {
   "cell_type": "code",
   "execution_count": 15,
   "id": "65b14ae1-937e-4d0d-9432-f2e9ee8f240c",
   "metadata": {
    "tags": []
   },
   "outputs": [],
   "source": [
    "cat_cols = ['Hour', 'am_or_pm', 'weekday']\n",
    "cont_cols = ['pickup_longitude',\n",
    "       'pickup_latitude', 'dropoff_longitude', 'dropoff_latitude',\n",
    "       'passenger_count', 'distance_km']"
   ]
  },
  {
   "cell_type": "code",
   "execution_count": 16,
   "id": "2fc2022a-d993-416d-874d-b470948f36de",
   "metadata": {
    "tags": []
   },
   "outputs": [],
   "source": [
    "y_col = ['fare_amount']"
   ]
  },
  {
   "cell_type": "code",
   "execution_count": 17,
   "id": "48313d0d-464a-422e-8d66-e43168418e6e",
   "metadata": {
    "tags": []
   },
   "outputs": [],
   "source": [
    "for cat in cat_cols:\n",
    "    df[cat] = df[cat].astype('category')"
   ]
  },
  {
   "cell_type": "code",
   "execution_count": 18,
   "id": "51b995e6-0938-493d-8fd9-459351810d94",
   "metadata": {
    "tags": []
   },
   "outputs": [
    {
     "data": {
      "text/plain": [
       "fare_amount                      float64\n",
       "pickup_datetime      datetime64[ns, UTC]\n",
       "pickup_longitude                 float64\n",
       "pickup_latitude                  float64\n",
       "dropoff_longitude                float64\n",
       "dropoff_latitude                 float64\n",
       "passenger_count                    int64\n",
       "distance_km                      float64\n",
       "edtdate              datetime64[ns, UTC]\n",
       "Hour                            category\n",
       "am_or_pm                        category\n",
       "weekday                         category\n",
       "dtype: object"
      ]
     },
     "execution_count": 18,
     "metadata": {},
     "output_type": "execute_result"
    }
   ],
   "source": [
    "df.dtypes"
   ]
  },
  {
   "cell_type": "code",
   "execution_count": 19,
   "id": "dcd0a055-89da-47a1-928a-68053485e8a4",
   "metadata": {
    "tags": []
   },
   "outputs": [],
   "source": [
    "hr = df['Hour'].cat.codes.values\n",
    "am_pm = df['am_or_pm'].cat.codes.values\n",
    "wkdy = df['weekday'].cat.codes.values"
   ]
  },
  {
   "cell_type": "code",
   "execution_count": 20,
   "id": "dd61c717-7f1c-4b34-ac3c-98bf2ca50d81",
   "metadata": {
    "tags": []
   },
   "outputs": [
    {
     "data": {
      "text/plain": [
       "array([[13,  1,  1],\n",
       "       [12,  1,  5],\n",
       "       [20,  1,  6],\n",
       "       ...,\n",
       "       [10,  0,  0],\n",
       "       [20,  1,  4],\n",
       "       [10,  0,  4]], dtype=int8)"
      ]
     },
     "execution_count": 20,
     "metadata": {},
     "output_type": "execute_result"
    }
   ],
   "source": [
    "cats = np.stack([hr,am_pm,wkdy], axis=1)\n",
    "cats"
   ]
  },
  {
   "cell_type": "code",
   "execution_count": 21,
   "id": "18da722e-f855-4b9b-ba4d-2e9d8547ccc8",
   "metadata": {
    "tags": []
   },
   "outputs": [],
   "source": [
    "cats = torch.tensor(cats, dtype=torch.int64)"
   ]
  },
  {
   "cell_type": "code",
   "execution_count": 22,
   "id": "193e5328-d68a-419f-8b78-9b52a7dd0c87",
   "metadata": {
    "tags": []
   },
   "outputs": [],
   "source": [
    "conts = np.stack([df[col].values for col in cont_cols], axis=1)"
   ]
  },
  {
   "cell_type": "code",
   "execution_count": 23,
   "id": "408a2a7e-507e-496a-89e6-73523c72ed07",
   "metadata": {
    "tags": []
   },
   "outputs": [
    {
     "data": {
      "text/plain": [
       "array([[-73.844311  ,  40.721319  , -73.84161   ,  40.712278  ,\n",
       "          1.        ,   1.03076394],\n",
       "       [-74.016048  ,  40.711303  , -73.979268  ,  40.782004  ,\n",
       "          1.        ,   8.4501336 ],\n",
       "       [-73.982738  ,  40.76127   , -73.991242  ,  40.750562  ,\n",
       "          2.        ,   1.38952523],\n",
       "       ...,\n",
       "       [-73.978423  ,  40.751135  , -73.993397  ,  40.762197  ,\n",
       "          5.        ,   1.76174086],\n",
       "       [-73.980317  ,  40.759482  , -73.976832  ,  40.743122  ,\n",
       "          1.        ,   1.84268322],\n",
       "       [-74.006635  ,  40.741598  , -73.99945   ,  40.745702  ,\n",
       "          1.        ,   0.75805146]])"
      ]
     },
     "execution_count": 23,
     "metadata": {},
     "output_type": "execute_result"
    }
   ],
   "source": [
    "conts"
   ]
  },
  {
   "cell_type": "code",
   "execution_count": 24,
   "id": "4dff7783-6149-4c49-bbe0-37bdd18a0221",
   "metadata": {
    "tags": []
   },
   "outputs": [
    {
     "data": {
      "text/plain": [
       "tensor([[-73.8443,  40.7213, -73.8416,  40.7123,   1.0000,   1.0308],\n",
       "        [-74.0160,  40.7113, -73.9793,  40.7820,   1.0000,   8.4501],\n",
       "        [-73.9827,  40.7613, -73.9912,  40.7506,   2.0000,   1.3895],\n",
       "        ...,\n",
       "        [-73.9784,  40.7511, -73.9934,  40.7622,   5.0000,   1.7617],\n",
       "        [-73.9803,  40.7595, -73.9768,  40.7431,   1.0000,   1.8427],\n",
       "        [-74.0066,  40.7416, -73.9995,  40.7457,   1.0000,   0.7581]])"
      ]
     },
     "execution_count": 24,
     "metadata": {},
     "output_type": "execute_result"
    }
   ],
   "source": [
    "### Converting it into tensors\n",
    "conts = torch.tensor(conts, dtype=torch.float)\n",
    "conts"
   ]
  },
  {
   "cell_type": "code",
   "execution_count": 25,
   "id": "e7772186-3895-4cb8-b96f-85c7f41ed5a1",
   "metadata": {
    "tags": []
   },
   "outputs": [
    {
     "data": {
      "text/plain": [
       "torch.Size([1000000, 6])"
      ]
     },
     "execution_count": 25,
     "metadata": {},
     "output_type": "execute_result"
    }
   ],
   "source": [
    "conts.shape"
   ]
  },
  {
   "cell_type": "code",
   "execution_count": 26,
   "id": "cbfaa04f-a55c-4b67-a13d-054ebee111fc",
   "metadata": {
    "tags": []
   },
   "outputs": [
    {
     "data": {
      "text/plain": [
       "torch.Size([1000000, 1])"
      ]
     },
     "execution_count": 26,
     "metadata": {},
     "output_type": "execute_result"
    }
   ],
   "source": [
    "y = torch.tensor(df[y_col].values, dtype=torch.float).reshape(-1,1)\n",
    "y.shape"
   ]
  },
  {
   "cell_type": "code",
   "execution_count": 27,
   "id": "4d7b1107-0334-4788-9a75-595e4784ba2a",
   "metadata": {
    "tags": []
   },
   "outputs": [
    {
     "data": {
      "text/plain": [
       "[24, 2, 7]"
      ]
     },
     "execution_count": 27,
     "metadata": {},
     "output_type": "execute_result"
    }
   ],
   "source": [
    "cat_sizes = [len(df[col].cat.categories) for col in cat_cols]\n",
    "cat_sizes"
   ]
  },
  {
   "cell_type": "code",
   "execution_count": 28,
   "id": "a5f8ad53-2130-4723-a071-a1645a655230",
   "metadata": {
    "tags": []
   },
   "outputs": [
    {
     "data": {
      "text/plain": [
       "[(24, 12), (2, 1), (7, 4)]"
      ]
     },
     "execution_count": 28,
     "metadata": {},
     "output_type": "execute_result"
    }
   ],
   "source": [
    "emb_sizes = [(size, min(50,(size+1)//2)) for size in cat_sizes]\n",
    "emb_sizes"
   ]
  },
  {
   "cell_type": "code",
   "execution_count": 29,
   "id": "25bd1b70-2518-4ca5-866f-8aa868949517",
   "metadata": {
    "tags": []
   },
   "outputs": [
    {
     "data": {
      "text/plain": [
       "ModuleList(\n",
       "  (0): Embedding(24, 12)\n",
       "  (1): Embedding(2, 1)\n",
       "  (2): Embedding(7, 4)\n",
       ")"
      ]
     },
     "execution_count": 29,
     "metadata": {},
     "output_type": "execute_result"
    }
   ],
   "source": [
    "selfembeds = nn.ModuleList([nn.Embedding(ni, nf) for ni,nf in emb_sizes])\n",
    "selfembeds"
   ]
  },
  {
   "cell_type": "markdown",
   "id": "71399d8f-6136-47c7-b88c-adcad03d4633",
   "metadata": {},
   "source": [
    "## 예측 모델 학습"
   ]
  },
  {
   "cell_type": "code",
   "execution_count": 30,
   "id": "68235e82-c4aa-44e2-a669-c1e5d65b4f2b",
   "metadata": {
    "tags": []
   },
   "outputs": [],
   "source": [
    "class TabularModel(nn.Module):\n",
    "    \n",
    "    def __init__(self, emb_sizes, n_cont, out_szs, layers, p=0.5):\n",
    "        super().__init__()\n",
    "        \n",
    "        self.embeds = nn.ModuleList([nn.Embedding(ni, nf) for ni,nf in emb_sizes])\n",
    "        self.emb_drop = nn.Dropout(p)\n",
    "        self.bn_cont = nn.BatchNorm1d(n_cont)\n",
    "        \n",
    "        layer_list = []\n",
    "        n_emb = sum([nf for ni,nf in emb_sizes])\n",
    "        n_in = n_emb + n_cont\n",
    "        \n",
    "        for i in layers:\n",
    "            layer_list.append(nn.Linear(n_in, i))\n",
    "            layer_list.append(nn.ReLU(inplace=True))\n",
    "            layer_list.append(nn.BatchNorm1d(i))\n",
    "            layer_list.append(nn.Dropout(p))\n",
    "            n_in = i\n",
    "            \n",
    "        layer_list.append(nn.Linear(layers[-1], out_szs))\n",
    "        \n",
    "        self.layers = nn.Sequential(*layer_list)\n",
    "        \n",
    "    def forward(self, x_cat, x_cont):\n",
    "        embeddings = []\n",
    "        \n",
    "        for i,e in enumerate(self.embeds):\n",
    "            embeddings.append(e(x_cat[:,i]))\n",
    "            \n",
    "        x = torch.cat(embeddings, 1)\n",
    "        x = self.emb_drop(x)\n",
    "        \n",
    "        x_cont = self.bn_cont(x_cont)\n",
    "        x = torch.cat([x,x_cont], 1)\n",
    "        x = self.layers(x)\n",
    "        \n",
    "        return x"
   ]
  },
  {
   "cell_type": "code",
   "execution_count": 31,
   "id": "7b63eb6e-6fec-43bb-8ef6-b6c1b2120ae6",
   "metadata": {
    "tags": []
   },
   "outputs": [],
   "source": [
    "torch.manual_seed(33)\n",
    "model = TabularModel(emb_sizes, conts.shape[1], 1,[200,100], p=0.4)"
   ]
  },
  {
   "cell_type": "code",
   "execution_count": 32,
   "id": "c177f754-334a-495c-9c57-14e63d980bfc",
   "metadata": {
    "tags": []
   },
   "outputs": [
    {
     "data": {
      "text/plain": [
       "TabularModel(\n",
       "  (embeds): ModuleList(\n",
       "    (0): Embedding(24, 12)\n",
       "    (1): Embedding(2, 1)\n",
       "    (2): Embedding(7, 4)\n",
       "  )\n",
       "  (emb_drop): Dropout(p=0.4, inplace=False)\n",
       "  (bn_cont): BatchNorm1d(6, eps=1e-05, momentum=0.1, affine=True, track_running_stats=True)\n",
       "  (layers): Sequential(\n",
       "    (0): Linear(in_features=23, out_features=200, bias=True)\n",
       "    (1): ReLU(inplace=True)\n",
       "    (2): BatchNorm1d(200, eps=1e-05, momentum=0.1, affine=True, track_running_stats=True)\n",
       "    (3): Dropout(p=0.4, inplace=False)\n",
       "    (4): Linear(in_features=200, out_features=100, bias=True)\n",
       "    (5): ReLU(inplace=True)\n",
       "    (6): BatchNorm1d(100, eps=1e-05, momentum=0.1, affine=True, track_running_stats=True)\n",
       "    (7): Dropout(p=0.4, inplace=False)\n",
       "    (8): Linear(in_features=100, out_features=1, bias=True)\n",
       "  )\n",
       ")"
      ]
     },
     "execution_count": 32,
     "metadata": {},
     "output_type": "execute_result"
    }
   ],
   "source": [
    "model"
   ]
  },
  {
   "cell_type": "code",
   "execution_count": 33,
   "id": "a50a96a5-1184-44b2-9ed7-097d48a7ad1b",
   "metadata": {
    "tags": []
   },
   "outputs": [],
   "source": [
    "criterion = nn.MSELoss()\n",
    "optimizer = torch.optim.Adam(model.parameters(), lr=0.01)"
   ]
  },
  {
   "cell_type": "code",
   "execution_count": 34,
   "id": "bcf8b287-4c13-4f34-ac09-2f47f9fa5455",
   "metadata": {
    "tags": []
   },
   "outputs": [],
   "source": [
    "batch_size=60000\n",
    "test_size = int(batch_size*0.2)"
   ]
  },
  {
   "cell_type": "code",
   "execution_count": 35,
   "id": "9c9e386e-2793-4abd-b6a8-e0648199e60d",
   "metadata": {
    "tags": []
   },
   "outputs": [],
   "source": [
    "cat_train = cats[:batch_size-test_size]\n",
    "cat_test = cats[batch_size-test_size:batch_size]\n",
    "con_train = conts[:batch_size-test_size]\n",
    "con_test = conts[batch_size-test_size:batch_size]"
   ]
  },
  {
   "cell_type": "code",
   "execution_count": 36,
   "id": "2acac606-a2f6-4415-9c17-4d39426cde14",
   "metadata": {
    "tags": []
   },
   "outputs": [],
   "source": [
    "y_train=y[:batch_size-test_size]\n",
    "y_test = y[batch_size-test_size:batch_size]"
   ]
  },
  {
   "cell_type": "code",
   "execution_count": 37,
   "id": "7452d778-181a-45a9-baa2-c0ae81dd085b",
   "metadata": {
    "tags": []
   },
   "outputs": [
    {
     "data": {
      "text/plain": [
       "48000"
      ]
     },
     "execution_count": 37,
     "metadata": {},
     "output_type": "execute_result"
    }
   ],
   "source": [
    "len(cat_train)"
   ]
  },
  {
   "cell_type": "code",
   "execution_count": 38,
   "id": "6661a115-15d2-450b-8b9a-a8e49a1c5629",
   "metadata": {
    "tags": []
   },
   "outputs": [
    {
     "data": {
      "text/plain": [
       "48000"
      ]
     },
     "execution_count": 38,
     "metadata": {},
     "output_type": "execute_result"
    }
   ],
   "source": [
    "len(con_train)"
   ]
  },
  {
   "cell_type": "code",
   "execution_count": 39,
   "id": "d239fb20-726b-4d7d-8e7f-a77a6268584b",
   "metadata": {
    "scrolled": true,
    "tags": []
   },
   "outputs": [
    {
     "name": "stdout",
     "output_type": "stream",
     "text": [
      "Epoch 1, loss: 14.989654541015625\n",
      "Epoch 2, loss: 14.966270446777344\n",
      "Epoch 3, loss: 14.899831771850586\n",
      "Epoch 4, loss: 14.865638732910156\n",
      "Epoch 5, loss: 14.827088356018066\n",
      "Epoch 6, loss: 14.772923469543457\n",
      "Epoch 7, loss: 14.706470489501953\n",
      "Epoch 8, loss: 14.624122619628906\n",
      "Epoch 9, loss: 14.527762413024902\n",
      "Epoch 10, loss: 14.421438217163086\n",
      "Epoch 11, loss: 14.304932594299316\n",
      "Epoch 12, loss: 14.157746315002441\n",
      "Epoch 13, loss: 14.019085884094238\n",
      "Epoch 14, loss: 13.839574813842773\n",
      "Epoch 15, loss: 13.653108596801758\n",
      "Epoch 16, loss: 13.470829963684082\n",
      "Epoch 17, loss: 13.246794700622559\n",
      "Epoch 18, loss: 13.022604942321777\n",
      "Epoch 19, loss: 12.78430461883545\n",
      "Epoch 20, loss: 12.527644157409668\n",
      "Epoch 21, loss: 12.267768859863281\n",
      "Epoch 22, loss: 11.99387264251709\n",
      "Epoch 23, loss: 11.723966598510742\n",
      "Epoch 24, loss: 11.45756721496582\n",
      "Epoch 25, loss: 11.18661880493164\n",
      "Epoch 26, loss: 10.928346633911133\n",
      "Epoch 27, loss: 10.695672988891602\n",
      "Epoch 28, loss: 10.478654861450195\n",
      "Epoch 29, loss: 10.289607048034668\n",
      "Epoch 30, loss: 10.129900932312012\n",
      "Epoch 31, loss: 10.008465766906738\n",
      "Epoch 32, loss: 9.911437034606934\n",
      "Epoch 33, loss: 9.894033432006836\n",
      "Epoch 34, loss: 9.91589641571045\n",
      "Epoch 35, loss: 9.940484046936035\n",
      "Epoch 36, loss: 9.998846054077148\n",
      "Epoch 37, loss: 10.057806015014648\n",
      "Epoch 38, loss: 10.086566925048828\n",
      "Epoch 39, loss: 10.088540077209473\n",
      "Epoch 40, loss: 10.074651718139648\n",
      "Epoch 41, loss: 10.051685333251953\n",
      "Epoch 42, loss: 9.995476722717285\n",
      "Epoch 43, loss: 9.939091682434082\n",
      "Epoch 44, loss: 9.834752082824707\n",
      "Epoch 45, loss: 9.733189582824707\n",
      "Epoch 46, loss: 9.625475883483887\n",
      "Epoch 47, loss: 9.483176231384277\n",
      "Epoch 48, loss: 9.324456214904785\n",
      "Epoch 49, loss: 9.146357536315918\n",
      "Epoch 50, loss: 9.01315975189209\n",
      "Epoch 51, loss: 8.914754867553711\n",
      "Epoch 52, loss: 8.36805534362793\n",
      "Epoch 53, loss: 8.6876802444458\n",
      "Epoch 54, loss: 8.088235855102539\n",
      "Epoch 55, loss: 7.918611526489258\n",
      "Epoch 56, loss: 7.6121649742126465\n",
      "Epoch 57, loss: 7.613919258117676\n",
      "Epoch 58, loss: 7.3241801261901855\n",
      "Epoch 59, loss: 7.145503520965576\n",
      "Epoch 60, loss: 7.193383693695068\n",
      "Epoch 61, loss: 6.810766220092773\n",
      "Epoch 62, loss: 6.813668727874756\n",
      "Epoch 63, loss: 6.766387462615967\n",
      "Epoch 64, loss: 6.552526950836182\n",
      "Epoch 65, loss: 6.611658573150635\n",
      "Epoch 66, loss: 6.506932258605957\n",
      "Epoch 67, loss: 6.387887001037598\n",
      "Epoch 68, loss: 6.374147415161133\n",
      "Epoch 69, loss: 6.28021764755249\n",
      "Epoch 70, loss: 6.2101521492004395\n",
      "Epoch 71, loss: 6.1786651611328125\n",
      "Epoch 72, loss: 6.156247138977051\n",
      "Epoch 73, loss: 6.099918365478516\n",
      "Epoch 74, loss: 6.03712797164917\n",
      "Epoch 75, loss: 6.052725315093994\n",
      "Epoch 76, loss: 5.973019599914551\n",
      "Epoch 77, loss: 6.006423473358154\n",
      "Epoch 78, loss: 5.961597919464111\n",
      "Epoch 79, loss: 5.925057888031006\n",
      "Epoch 80, loss: 5.940352439880371\n",
      "Epoch 81, loss: 5.95833683013916\n",
      "Epoch 82, loss: 5.896324634552002\n",
      "Epoch 83, loss: 5.875040054321289\n",
      "Epoch 84, loss: 5.89885950088501\n",
      "Epoch 85, loss: 5.874727725982666\n",
      "Epoch 86, loss: 5.823045253753662\n",
      "Epoch 87, loss: 5.789979934692383\n",
      "Epoch 88, loss: 5.8391499519348145\n",
      "Epoch 89, loss: 5.799417018890381\n",
      "Epoch 90, loss: 5.80710506439209\n",
      "Epoch 91, loss: 5.752861499786377\n",
      "Epoch 92, loss: 5.76969575881958\n",
      "Epoch 93, loss: 5.730463027954102\n",
      "Epoch 94, loss: 5.7468180656433105\n",
      "Epoch 95, loss: 5.7561354637146\n",
      "Epoch 96, loss: 5.753788948059082\n",
      "Epoch 97, loss: 5.736433029174805\n",
      "Epoch 98, loss: 5.705203056335449\n",
      "Epoch 99, loss: 5.728189468383789\n",
      "Epoch 100, loss: 5.774552822113037\n",
      "Training took 0.3101231018702189 minutes\n"
     ]
    }
   ],
   "source": [
    "import time\n",
    "\n",
    "start_time = time.time()\n",
    "\n",
    "final_losses = []\n",
    "\n",
    "for epochs in range(100):\n",
    "    optimizer.zero_grad()\n",
    "    y_pred = model(cat_train, con_train)\n",
    "    loss = torch.sqrt(criterion(y_pred, y_train))\n",
    "    final_losses.append(loss)\n",
    "    loss.backward()\n",
    "    optimizer.step()\n",
    "    print(f\"Epoch {epochs+1}, loss: {loss.item()}\")\n",
    "    \n",
    "duration = time.time() - start_time\n",
    "print(f\"Training took {duration/60} minutes\")"
   ]
  },
  {
   "cell_type": "code",
   "execution_count": 40,
   "id": "a9584382-9559-4e1d-aa94-d150776111d9",
   "metadata": {},
   "outputs": [
    {
     "data": {
      "text/plain": [
       "[<matplotlib.lines.Line2D at 0x7fcbfb56f410>]"
      ]
     },
     "execution_count": 40,
     "metadata": {},
     "output_type": "execute_result"
    },
    {
     "data": {
      "image/png": "[encoded data removed]",
      "text/plain": [
       "<Figure size 640x480 with 1 Axes>"
      ]
     },
     "metadata": {},
     "output_type": "display_data"
    }
   ],
   "source": [
    "### PLotting the loss function\n",
    "visualize_losses = [_ea_tensor.detach().numpy() for _ea_tensor in final_losses]\n",
    "\n",
    "# 에러 발생시 아래의 주석을 해제하여 matplotlib를 재설치 해주세요.\n",
    "# !pip install matplotlib==3.8.2\n",
    "plt.plot(range(100), visualize_losses)"
   ]
  },
  {
   "cell_type": "markdown",
   "id": "7e02712f-ab8e-4236-9218-ba488e16cb78",
   "metadata": {},
   "source": [
    "## 테스트 데이터세트 검증"
   ]
  },
  {
   "cell_type": "code",
   "execution_count": 42,
   "id": "408881cc-a3ed-4eaf-98e9-05c97b6070af",
   "metadata": {
    "tags": []
   },
   "outputs": [],
   "source": [
    "### Evaluating our model on the test set\n",
    "with torch.no_grad():\n",
    "    y_val = model(cat_test, con_test)\n",
    "    loss = torch.sqrt(criterion(y_val, y_test))"
   ]
  },
  {
   "cell_type": "code",
   "execution_count": 43,
   "id": "c29d6c50-2466-43de-806b-29147c1eee77",
   "metadata": {
    "tags": []
   },
   "outputs": [
    {
     "name": "stdout",
     "output_type": "stream",
     "text": [
      "예측값 :  11.8898 실측값 :    12.00 절대오차 :     0.11\n",
      "예측값 :  11.6485 실측값 :    15.30 절대오차 :     3.65\n",
      "예측값 :  13.1570 실측값 :    14.50 절대오차 :     1.34\n",
      "예측값 :  19.6059 실측값 :    18.00 절대오차 :     1.61\n",
      "예측값 :  23.1862 실측값 :    24.00 절대오차 :     0.81\n",
      "예측값 :  10.2114 실측값 :     9.70 절대오차 :     0.51\n",
      "예측값 :  10.7716 실측값 :    11.00 절대오차 :     0.23\n",
      "예측값 :  28.7731 실측값 :    26.00 절대오차 :     2.77\n",
      "예측값 :   5.2272 실측값 :     5.00 절대오차 :     0.23\n",
      "예측값 :   5.1038 실측값 :    13.00 절대오차 :     7.90\n",
      "예측값 :  50.9428 실측값 :    49.15 절대오차 :     1.79\n",
      "예측값 :   5.7370 실측값 :     8.90 절대오차 :     3.16\n",
      "예측값 :   6.2946 실측값 :     6.50 절대오차 :     0.21\n",
      "예측값 :  11.9370 실측값 :    13.00 절대오차 :     1.06\n",
      "예측값 :  10.8880 실측값 :    17.00 절대오차 :     6.11\n",
      "예측값 :   5.9029 실측값 :     6.10 절대오차 :     0.20\n",
      "예측값 :   7.5005 실측값 :    12.10 절대오차 :     4.60\n",
      "예측값 :  21.0924 실측값 :    17.50 절대오차 :     3.59\n",
      "예측값 :   7.5162 실측값 :     6.50 절대오차 :     1.02\n",
      "예측값 :   6.9482 실측값 :    10.00 절대오차 :     3.05\n"
     ]
    }
   ],
   "source": [
    "for i in range(20):\n",
    "    diff = np.abs(y_val[i].item()-y_test[i].item())\n",
    "    print(f'예측값 : {y_val[i].item():8.4f} 실측값 : {y_test[i].item():8.2f} 절대오차 : {diff:8.2f}')"
   ]
  },
  {
   "cell_type": "code",
   "execution_count": null,
   "id": "31c39f03-d957-4f4e-9f33-d1ca0cd0300d",
   "metadata": {},
   "outputs": [],
   "source": []
  }
 ],
 "metadata": {
  "kernelspec": {
   "display_name": "Python 3 (ipykernel)",
   "language": "python",
   "name": "python3"
  },
  "language_info": {
   "codemirror_mode": {
    "name": "ipython",
    "version": 3
   },
   "file_extension": ".py",
   "mimetype": "text/x-python",
   "name": "python",
   "nbconvert_exporter": "python",
   "pygments_lexer": "ipython3",
   "version": "3.11.9"
  }
 },
 "nbformat": 4,
 "nbformat_minor": 5
}
