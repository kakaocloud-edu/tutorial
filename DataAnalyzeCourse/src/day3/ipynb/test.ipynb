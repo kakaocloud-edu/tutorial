{
  "cells": [
    {
      "cell_type": "code",
      "execution_count": null,
      "metadata": {},
      "source": [
        "!pip install boto3 pyarrow pandas"
      ]
    },
    {
      "cell_type": "code",
      "execution_count": null,
      "metadata": {},
      "source": [
        "import boto3\n",
        "\n",
        "ACCESS_KEY = \"{AWS_ACCESS_KEY_ID}\"\n",
        "SECRET_KEY = \"{AWS_SECRET_ACCESS_KEY}\"\n",
        "\n",
        "s3 = boto3.client(\n",
        "    service_name=\"s3\",\n",
        "    region_name=\"kr-central-2\",\n",
        "    endpoint_url=\"https://objectstorage.kr-central-2.kakaocloud.com\",\n",
        "    aws_access_key_id=ACCESS_KEY,\n",
        "    aws_secret_access_key=SECRET_KEY,\n",
        ")"
      ]
    },
    {
      "cell_type": "code",
      "execution_count": null,
      "metadata": {},
      "source": [
        "import io\n",
        "import random\n",
        "import pyarrow.parquet as pq\n",
        "import pandas as pd\n",
        "\n",
        "bucket_name = \"data-catalog-bucket\"\n",
        "prefix      = \"data-catalog-dir/user_behavior_prediction_batch/\"\n",
        "\n",
        "resp = s3.list_objects_v2(Bucket=bucket_name, Prefix=prefix)\n",
        "keys = [\n",
        "    obj[\"Key\"]\n",
        "    for obj in resp.get(\"Contents\", [])\n",
        "    if obj[\"Key\"].endswith(\".parquet\")\n",
        "]\n",
        "\n",
        "if not keys:\n",
        "    raise ValueError(f\"No parquet files found under prefix {prefix!r}\")"
      ]
    },
    {
      "cell_type": "code",
      "execution_count": null,
      "metadata": {},
      "source": [
        "random_key = random.choice(keys)"
      ]
    },
    {
      "cell_type": "code",
      "execution_count": null,
      "metadata": {},
      "source": [
        "obj = s3.get_object(Bucket=bucket_name, Key=random_key)\n",
        "buf = io.BytesIO(obj[\"Body\"].read())\n",
        "table = pq.read_table(buf)\n",
        "df = table.to_pandas()\n",
        "\n",
        "df.head(10)"
      ]
    }
  ],
  "nbformat": 4,
  "nbformat_minor": 5,
  "metadata": {
    "kernelspec": {
      "display_name": "Python 3 (ipykernel)",
      "language": "python",
      "name": "python3"
    },
    "language_info": {
      "name": "python",
      "version": "3.8.10",
      "file_extension": ".py",
      "mimetype": "text/x-python",
      "codemirror_mode": {
        "name": "ipython",
        "version": 3
      },
      "pygments_lexer": "ipython3"
    }
  }
}
