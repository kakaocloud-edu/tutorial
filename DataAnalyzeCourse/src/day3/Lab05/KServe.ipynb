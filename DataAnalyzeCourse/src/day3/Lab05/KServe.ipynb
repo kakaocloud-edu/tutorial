{
 "cells": [
  {
   "cell_type": "markdown",
   "id": "194b6db0-0f82-4754-bafb-cafcd36f263f",
   "metadata": {},
   "source": [
    "# 모델 저장 및 배포\n",
    "### 검증을 마친 모델을 Object Storage에 저장하고 KServe를 이용하여 모델을 배포하는 실습입니다."
   ]
  },
  {
   "cell_type": "markdown",
   "id": "f187339b-4e48-4f13-8b91-c1709f34f160",
   "metadata": {},
   "source": [
    "# 1) 패키지 설치\n",
    "- 모델 저장 및 배포에 필요한 패키지를 설치합니다."
   ]
  },
  {
   "cell_type": "code",
   "execution_count": null,
   "id": "418034f9-38cf-4910-9aa9-0792dcb0fb28",
   "metadata": {},
   "outputs": [],
   "source": [
    "%pip -q install boto3 botocore"
   ]
  },
  {
   "cell_type": "markdown",
   "id": "17c2dc34-6109-4b32-a896-6965097b9e8f",
   "metadata": {},
   "source": [
    "# 2) Object Storage에 모델 저장\n",
    "- Kakaocloud Object Storage에 모델을 저장합니다.\n",
    "- `S3_ACCESS_KEY`, `S3_SECRET_KEY` 에 실제 환경 변수 값으로 수정"
   ]
  },
  {
   "cell_type": "code",
   "execution_count": null,
   "id": "0d718974-a5c9-4e0b-bae6-a68cfafa7406",
   "metadata": {},
   "outputs": [],
   "source": [
    "import os, boto3, botocore\n",
    "\n",
    "ENDPOINT = \"https://objectstorage.kr-central-2.kakaocloud.com\"\n",
    "REGION   = \"kr-central-2\"\n",
    "BUCKET   = \"models\" # 버킷 이름\n",
    "PREFIX   = \"gender_predict\" # 버킷 안 폴더 이름\n",
    "LOCAL    = \"./models/gender/model.joblib\" # notebook의 모델 경로\n",
    "\n",
    "AWS_ACCESS_KEY_ID = \"{S3_ACCESS_KEY}\"\n",
    "AWS_SECRET_ACCESS_KEY = \"{S3_SECRET_KEY}\"\n",
    "\n",
    "session = boto3.session.Session()\n",
    "s3 = session.client(\n",
    "    \"s3\",\n",
    "    endpoint_url=ENDPOINT,\n",
    "    region_name=REGION,\n",
    "    aws_access_key_id=AWS_ACCESS_KEY_ID,\n",
    "    aws_secret_access_key=AWS_SECRET_ACCESS_KEY,\n",
    "    config=botocore.config.Config(\n",
    "        s3={\"addressing_style\": \"path\"},\n",
    "        signature_version=\"s3v4\",\n",
    "    ),\n",
    ")\n",
    "\n",
    "# 버킷 존재 확인/생성\n",
    "try:\n",
    "    s3.head_bucket(Bucket=BUCKET)\n",
    "    print(f\"Bucket '{BUCKET}' already exists.\")\n",
    "except Exception:\n",
    "    try:\n",
    "        s3.create_bucket(Bucket=BUCKET)\n",
    "    except Exception:\n",
    "        s3.create_bucket(\n",
    "            Bucket=BUCKET,\n",
    "            CreateBucketConfiguration={\"LocationConstraint\": REGION}\n",
    "        )\n",
    "    print(f\"Bucket '{BUCKET}' created.\")\n",
    "\n",
    "# 업로드\n",
    "assert os.path.exists(LOCAL), f\"로컬 파일 없음: {LOCAL}\"\n",
    "key = f\"{PREFIX}/model.joblib\"\n",
    "s3.upload_file(LOCAL, BUCKET, key)\n",
    "print(f\"Uploaded: s3://{BUCKET}/{key}\")\n",
    "\n",
    "# 목록 확인\n",
    "resp = s3.list_objects_v2(Bucket=BUCKET, Prefix=f\"{PREFIX}/\")\n",
    "for obj in resp.get(\"Contents\", []):\n",
    "    print(obj[\"Key\"], obj[\"Size\"])\n",
    "\n",
    "# 이후 Bash 셀에서 재사용할 수 있도록 .env 파일 생성\n",
    "with open(\"kserve_s3_creds.env\", \"w\", encoding=\"utf-8\") as f:\n",
    "    f.write(f'KEY_ID=\"{AWS_ACCESS_KEY_ID}\"\\n')\n",
    "    f.write(f'SECRET=\"{AWS_SECRET_ACCESS_KEY}\"\\n')\n",
    "print(\"Saved creds -> kserve_s3_creds.env\")\n"
   ]
  },
  {
   "cell_type": "markdown",
   "id": "9a6c899c-2f6c-4c3e-8360-e79f743dc304",
   "metadata": {},
   "source": [
    "# 3) KServe 리소스 생성\n",
    "- KServe가 Object Storage에 있는 모델을 읽기 위한 리소스를 생성합니다."
   ]
  },
  {
   "cell_type": "code",
   "execution_count": null,
   "id": "beb50f9b-c1a6-4d42-8366-f1deb10a465a",
   "metadata": {},
   "outputs": [],
   "source": [
    "%%bash\n",
    "set -euo pipefail\n",
    "\n",
    "NAMESPACE=kbm-u-kubeflow-tutorial\n",
    "\n",
    "source kserve_s3_creds.env\n",
    ": \"${KEY_ID:?KEY_ID missing}\"\n",
    ": \"${SECRET:?SECRET missing}\"\n",
    "\n",
    "TS=$(date +%s)\n",
    "SECRET_NAME=\"kakaos3-credentials-${TS}\"\n",
    "SA_NAME=\"sa-kakaos3-${TS}\"\n",
    "\n",
    "# 1) Secret 생성 (create만 사용)\n",
    "cat <<EOF | kubectl create -n \"$NAMESPACE\" -f -\n",
    "apiVersion: v1\n",
    "kind: Secret\n",
    "metadata:\n",
    "  name: ${SECRET_NAME}\n",
    "  annotations:\n",
    "    serving.kserve.io/s3-endpoint: objectstorage.kr-central-2.kakaocloud.com\n",
    "    serving.kserve.io/s3-region: kr-central-2\n",
    "    serving.kserve.io/s3-usehttps: \"1\"\n",
    "    serving.kserve.io/s3-verifyssl: \"1\"\n",
    "    serving.kserve.io/s3-usevirtualbucket: \"0\"   # path-style 권장\n",
    "type: Opaque\n",
    "stringData:\n",
    "  AWS_ACCESS_KEY_ID: \"${KEY_ID}\"\n",
    "  AWS_SECRET_ACCESS_KEY: \"${SECRET}\"\n",
    "EOF\n",
    "\n",
    "# 2) ServiceAccount 생성 (Secret 참조)\n",
    "cat <<EOF | kubectl create -n \"$NAMESPACE\" -f -\n",
    "apiVersion: v1\n",
    "kind: ServiceAccount\n",
    "metadata:\n",
    "  name: ${SA_NAME}\n",
    "secrets:\n",
    "  - name: ${SECRET_NAME}\n",
    "EOF\n",
    "\n",
    "# 다음 셀에서 쓰도록 파일로 저장\n",
    "echo \"SA_NAME=${SA_NAME}\" > kserve_sa.env\n",
    "echo \"SECRET_NAME=${SECRET_NAME}\" >> kserve_sa.env\n",
    "\n",
    "echo \"Created: SA=${SA_NAME}, SECRET=${SECRET_NAME} in ns=${NAMESPACE}\"\n"
   ]
  },
  {
   "cell_type": "markdown",
   "id": "2c48e68a-6de7-4ce4-832a-ca61b7e79069",
   "metadata": {},
   "source": [
    "# 4) KServe InferenceService 생성 및 모델 배포\n",
    "- KServe InferenceService를 이용하여 모델을 배포합니다."
   ]
  },
  {
   "cell_type": "code",
   "execution_count": null,
   "id": "33f1bd31-f9c5-45b0-b356-b6925084cd69",
   "metadata": {},
   "outputs": [],
   "source": [
    "%%bash\n",
    "set -euo pipefail\n",
    "\n",
    "NAMESPACE=kbm-u-kubeflow-tutorial\n",
    "BUCKET='models'\n",
    "PREFIX='gender_predict'\n",
    "\n",
    "source kserve_sa.env\n",
    ": \"${SA_NAME:?SA_NAME missing}\"\n",
    "\n",
    "cat <<EOF | kubectl create -n \"$NAMESPACE\" -f -\n",
    "apiVersion: serving.kserve.io/v1beta1\n",
    "kind: InferenceService\n",
    "metadata:\n",
    "  name: gender-predict\n",
    "spec:\n",
    "  predictor:\n",
    "    sklearn:\n",
    "      protocolVersion: v2\n",
    "      storageUri: s3://${BUCKET}/${PREFIX}\n",
    "      resources:\n",
    "        requests:\n",
    "          cpu: \"500m\"\n",
    "          memory: \"1Gi\"\n",
    "        limits:\n",
    "          cpu: \"1\"\n",
    "          memory: \"2Gi\"\n",
    "    serviceAccountName: ${SA_NAME}\n",
    "EOF"
   ]
  },
  {
   "cell_type": "code",
   "execution_count": null,
   "id": "28c4b691-8b6c-4ad2-b968-a3f19f40e916",
   "metadata": {},
   "outputs": [],
   "source": []
  }
 ],
 "metadata": {
  "kernelspec": {
   "display_name": "Python 3",
   "language": "python",
   "name": "python3"
  },
  "language_info": {
   "codemirror_mode": {
    "name": "ipython",
    "version": 3
   },
   "file_extension": ".py",
   "mimetype": "text/x-python",
   "name": "python",
   "nbconvert_exporter": "python",
   "pygments_lexer": "ipython3",
   "version": "3.11.11"
  }
 },
 "nbformat": 4,
 "nbformat_minor": 5
}
