{
 "cells": [
  {
   "cell_type": "markdown",
   "id": "730ae655-75cc-4bc2-bca0-8a38692ecd20",
   "metadata": {
    "execution": {
     "iopub.execute_input": "2023-04-13T08:36:54.026808Z",
     "iopub.status.busy": "2023-04-13T08:36:54.026515Z",
     "iopub.status.idle": "2023-04-13T08:36:54.030391Z",
     "shell.execute_reply": "2023-04-13T08:36:54.029649Z",
     "shell.execute_reply.started": "2023-04-13T08:36:54.026772Z"
    },
    "tags": []
   },
   "source": [
    "# 노트북에서 예측 모델 학습 파이프라인 생성하기"
   ]
  },
  {
   "cell_type": "markdown",
   "id": "65753faf",
   "metadata": {},
   "source": [
    "## 1. 필요한 라이브러리를 import"
   ]
  },
  {
   "cell_type": "code",
   "execution_count": 1,
   "id": "5f3efa95-eb15-41e7-a373-d368cf122f9d",
   "metadata": {
    "tags": []
   },
   "outputs": [],
   "source": [
    "import os\n",
    "import requests\n",
    "import pandas as pd\n",
    "from kakaocloud_kbm import KbmPipelineClient\n",
    "import kfp\n",
    "from kfp import components\n",
    "import kfp.dsl as dsl\n",
    "import kfp.compiler as compiler\n",
    "from kubernetes.client import (\n",
    "    V1Affinity, V1NodeAffinity, V1NodeSelector, V1NodeSelectorTerm, V1NodeSelectorRequirement\n",
    ")\n",
    "from typing import NamedTuple"
   ]
  },
  {
   "cell_type": "markdown",
   "id": "c336bca1",
   "metadata": {},
   "source": [
    "## 2. Kubeflow Pipeline에 접속하기 위한 환경 변수를 설정"
   ]
  },
  {
   "cell_type": "code",
   "execution_count": 2,
   "id": "f2ceb83a-d431-49a5-aab2-437bf51c9396",
   "metadata": {
    "tags": []
   },
   "outputs": [],
   "source": [
    "# KBM Kubeflow SDK\n",
    "os.environ[\"KUBEFLOW_HOST\"] = \"https://대시보드 접속한 로드밸런서의 Public IP\"\n",
    "os.environ[\"KUBEFLOW_USERNAME\"] = \"Kubeflow 대시보드 접속 아이디(이메일)\"\n",
    "os.environ[\"KUBEFLOW_PASSWORD\"] = \"Kubeflow 대시보드 접속 비밀번호\"\n",
    "\n",
    "client = KbmPipelineClient()"
   ]
  },
  {
   "cell_type": "code",
   "execution_count": 3,
   "id": "846d0c9d-ae64-4c10-bba3-fa4f742e224f",
   "metadata": {
    "tags": []
   },
   "outputs": [],
   "source": [
    "# Variables\n",
    "COMPONENT_PATH = 'components'\n",
    "TRAIN_PATH = os.path.join(COMPONENT_PATH, 'nyc_taxi_cpu_train')\n",
    "TRAIN_CR_IMAGE = \"bigdata-150.kr-central-2.kcr.dev/kc-kubeflow/kmlp-pytorch:1.0.0.py36.cpu\""
   ]
  },
  {
   "cell_type": "markdown",
   "id": "56be6971-b71e-4045-99d6-983cbab70208",
   "metadata": {},
   "source": [
    "## 3. 파이프라인 컴포넌트 빌드하기"
   ]
  },
  {
   "cell_type": "code",
   "execution_count": 4,
   "id": "552eee1b-6ece-45cf-bd43-9e48fa703d8e",
   "metadata": {
    "tags": []
   },
   "outputs": [
    {
     "name": "stdout",
     "output_type": "stream",
     "text": [
      "components/nyc_taxi_cpu_train\n"
     ]
    }
   ],
   "source": [
    "%%bash -s \"{TRAIN_PATH}\"\n",
    "\n",
    "mkdir -p ${1}\n",
    "echo ${1}"
   ]
  },
  {
   "cell_type": "markdown",
   "id": "3d482250-8cd1-409e-825a-b56e12ad6658",
   "metadata": {},
   "source": [
    "### 3-1. 데이터 수집 컴포넌트"
   ]
  },
  {
   "cell_type": "code",
   "execution_count": 5,
   "id": "db191936-6c44-43bd-b9a2-68e828d04d30",
   "metadata": {
    "tags": []
   },
   "outputs": [
    {
     "name": "stdout",
     "output_type": "stream",
     "text": [
      "Overwriting components/nyc_taxi_cpu_train/nyc_taxi_dataset_component.yaml\n"
     ]
    }
   ],
   "source": [
    "%%writefile {TRAIN_PATH}/nyc_taxi_dataset_component.yaml\n",
    "name: NYC Taxi Fare Dataset\n",
    "description: |\n",
    "  NYC Taxi Fare dataset: https://www.kaggle.com/competitions/new-york-city-taxi-fare-prediction/data\n",
    "metadata:\n",
    "  annotations:\n",
    "    author: KakaoCloud Bigdata <bigdata.platform@kakaoenterprise.com>\n",
    "inputs:\n",
    "- {name: kc_kbm_os_train_url, type: String, default: 'https://objectstorage.kr-central-1.kakaoi.io/v1/c745e6650f0341a68bb73fa222e88e9b/kbm-files/guide_docs%2Fhands_on%2Fnyc_taxi_fare%2Fdata%2Ftrain.csv'}\n",
    "outputs:\n",
    "- {name: dataset, description: 'Result type depends on format. CSV and TSV have header.'}\n",
    "implementation:\n",
    "  container:\n",
    "    image: curlimages/curl\n",
    "    command:\n",
    "    - sh\n",
    "    - -c\n",
    "    - |\n",
    "      set -e -x -o pipefail\n",
    "      output_path=\"$0\"\n",
    "      mkdir -p \"$output_path\"\n",
    "      curl \"$1\" --output \"$output_path/train.csv\"\n",
    "    - {outputPath: dataset}\n",
    "    - {inputValue: kc_kbm_os_train_url}\n"
   ]
  },
  {
   "cell_type": "markdown",
   "id": "892ae8d5-4802-4972-952b-a0a9c7f68830",
   "metadata": {},
   "source": [
    "### 3-2. 예측 모델 학습 컴포넌트"
   ]
  },
  {
   "cell_type": "code",
   "execution_count": 6,
   "id": "65b14ae1-937e-4d0d-9432-f2e9ee8f240c",
   "metadata": {
    "tags": []
   },
   "outputs": [],
   "source": [
    "def train_Pytorch_Tabular_Model(\n",
    "    training_data_path: components.InputPath(str),\n",
    "    model_path: components.OutputPath(str),\n",
    "    mlpipeline_ui_metadata: components.OutputPath(\"UI_Metadata\"),\n",
    "    train_data_fnm: str,\n",
    "    epoch_num: str\n",
    "):\n",
    "    import os\n",
    "    import pathlib\n",
    "    import torch \n",
    "    import torch.nn as nn\n",
    "    import pandas as pd\n",
    "    import numpy as np\n",
    "\n",
    "    pd.options.display.max_columns = None\n",
    "    \n",
    "    device = torch.device('cpu')\n",
    "\n",
    "    if torch.cuda.is_available():\n",
    "        device = torch.device('cuda')\n",
    "        print(\"Train on GPU.\")\n",
    "    else:\n",
    "        print(\"No cuda available\")\n",
    "\n",
    "    print(training_data_path)\n",
    "    print(os.listdir(training_data_path))\n",
    "    \n",
    "    pathlib.Path(model_path).mkdir(parents=True, exist_ok=True)\n",
    "    pathlib.Path(mlpipeline_ui_metadata).parent.mkdir(parents=True, exist_ok=True)\n",
    "\n",
    "    df = pd.read_csv(os.path.join(training_data_path, train_data_fnm))\n",
    "    print(df)\n",
    "\n",
    "    def haversine_distance(df, lat1, long1, lat2, long2):\n",
    "        \"\"\"\n",
    "        Calculates the haversine distance between 2 sets of GPS coordinates in df\n",
    "        \"\"\"\n",
    "        r = 6371  # average radius of Earth in kilometers\n",
    "\n",
    "        phi1 = np.radians(df[lat1])  # converting the longitude and latidtude into numpy radians\n",
    "        phi2 = np.radians(df[lat2])\n",
    "\n",
    "        delta_phi = np.radians(df[lat2]-df[lat1])\n",
    "        delta_lambda = np.radians(df[long2]-df[long1])\n",
    "\n",
    "        a = np.sin(delta_phi/2)**2 + np.cos(phi1) * np.cos(phi2) * np.sin(delta_lambda/2)**2\n",
    "        c = 2 * np.arctan2(np.sqrt(a), np.sqrt(1-a))\n",
    "        d = (r * c) # in kilometers\n",
    "\n",
    "        return d\n",
    "\n",
    "    df['distance_km'] = haversine_distance(df, 'pickup_latitude', 'pickup_longitude','dropoff_latitude','dropoff_longitude')\n",
    "    df.drop(columns=['key'], inplace=True, errors='ignore')\n",
    "\n",
    "    df['pickup_datetime'] = pd.to_datetime(df['pickup_datetime'])\n",
    "\n",
    "    df['edtdate'] = df['pickup_datetime'] - pd.Timedelta(hours=4)\n",
    "\n",
    "    df['Hour'] = df['edtdate'].dt.hour\n",
    "    df['am_or_pm'] = np.where(df['Hour']<12, 'am', 'pm')\n",
    "    df['weekday'] = df['edtdate'].dt.strftime(\"%a\")\n",
    "\n",
    "    print(df.columns)\n",
    "    print(df.info())\n",
    "\n",
    "    cat_cols = ['Hour', 'am_or_pm', 'weekday']\n",
    "    cont_cols = ['pickup_longitude',\n",
    "           'pickup_latitude', 'dropoff_longitude', 'dropoff_latitude',\n",
    "           'passenger_count', 'distance_km']\n",
    "    y_col = ['fare_amount']\n",
    "\n",
    "\n",
    "    for cat in cat_cols:\n",
    "        df[cat] = df[cat].astype('category')\n",
    "\n",
    "    hr = df['Hour'].cat.codes.values\n",
    "    am_pm = df['am_or_pm'].cat.codes.values\n",
    "    wkdy = df['weekday'].cat.codes.values\n",
    "\n",
    "    cats = np.stack([hr,am_pm,wkdy], axis=1)\n",
    "    cats = torch.tensor(cats, dtype=torch.int64)\n",
    "\n",
    "    conts = np.stack([df[col].values for col in cont_cols], axis=1)\n",
    "    conts = torch.tensor(conts, dtype=torch.float)\n",
    "\n",
    "    print(conts.shape)\n",
    "\n",
    "    y = torch.tensor(df[y_col].values, dtype=torch.float).reshape(-1,1)\n",
    "    print(y.shape)\n",
    "\n",
    "    cat_sizes = [len(df[col].cat.categories) for col in cat_cols]\n",
    "    emb_sizes = [(size, min(50,(size+1)//2)) for size in cat_sizes]\n",
    "    selfembeds = nn.ModuleList([nn.Embedding(ni, nf) for ni,nf in emb_sizes])\n",
    "\n",
    "    class TabularModel(nn.Module):\n",
    "\n",
    "        def __init__(self, emb_sizes, n_cont, out_szs, layers, p=0.5):\n",
    "            super().__init__()\n",
    "\n",
    "            self.embeds = nn.ModuleList([nn.Embedding(ni, nf) for ni,nf in emb_sizes])\n",
    "            self.emb_drop = nn.Dropout(p)\n",
    "            self.bn_cont = nn.BatchNorm1d(n_cont)\n",
    "\n",
    "            layer_list = []\n",
    "            n_emb = sum([nf for ni,nf in emb_sizes])\n",
    "            n_in = n_emb + n_cont\n",
    "\n",
    "            for i in layers:\n",
    "                layer_list.append(nn.Linear(n_in, i))\n",
    "                layer_list.append(nn.ReLU(inplace=True))\n",
    "                layer_list.append(nn.BatchNorm1d(i))\n",
    "                layer_list.append(nn.Dropout(p))\n",
    "                n_in = i\n",
    "\n",
    "            layer_list.append(nn.Linear(layers[-1], out_szs))\n",
    "\n",
    "            self.layers = nn.Sequential(*layer_list)\n",
    "\n",
    "        def forward(self, x_cat, x_cont):\n",
    "            embeddings = []\n",
    "\n",
    "            for i,e in enumerate(self.embeds):\n",
    "                embeddings.append(e(x_cat[:,i]))\n",
    "\n",
    "            x = torch.cat(embeddings, 1)\n",
    "            x = self.emb_drop(x)\n",
    "\n",
    "            x_cont = self.bn_cont(x_cont)\n",
    "            x = torch.cat([x,x_cont], 1)\n",
    "            x = self.layers(x)\n",
    "\n",
    "            return x\n",
    "\n",
    "    torch.manual_seed(33)\n",
    "    model = TabularModel(emb_sizes, conts.shape[1], 1,[200,100], p=0.4)\n",
    "\n",
    "    print(model)\n",
    "\n",
    "    criterion = nn.MSELoss()\n",
    "    optimizer = torch.optim.Adam(model.parameters(), lr=0.01)\n",
    "\n",
    "    batch_size=60000\n",
    "    test_size = int(batch_size*0.2)\n",
    "\n",
    "    cat_train = cats[:batch_size-test_size]\n",
    "    cat_test = cats[batch_size-test_size:batch_size]\n",
    "    con_train = conts[:batch_size-test_size]\n",
    "    con_test = conts[batch_size-test_size:batch_size]\n",
    "\n",
    "    y_train=y[:batch_size-test_size]\n",
    "    y_test = y[batch_size-test_size:batch_size]\n",
    "\n",
    "    torch.save(con_test, os.path.join(model_path, 'con_test.pt'))\n",
    "    torch.save(cat_test, os.path.join(model_path, 'cat_test.pt'))\n",
    "    torch.save(y_test, os.path.join(model_path, 'y_test.pt'))\n",
    "    \n",
    "    import time\n",
    "\n",
    "    start_time = time.time()\n",
    "\n",
    "    final_losses = []\n",
    "\n",
    "    for epochs in range(int(epoch_num)):\n",
    "        optimizer.zero_grad()\n",
    "        y_pred = model(cat_train, con_train)\n",
    "        loss = torch.sqrt(criterion(y_pred, y_train))\n",
    "        final_losses.append(loss)\n",
    "        loss.backward()\n",
    "        optimizer.step()\n",
    "        print(f\"Epoch {epochs+1}, loss: {loss.item()}\")\n",
    "\n",
    "    duration = time.time() - start_time\n",
    "    print(f\"Training took {duration/60} minutes\")\n",
    "    \n",
    "    torch.save(model.state_dict(), os.path.join(model_path, 'model.pt'))\n",
    "\n",
    "    \n",
    "    import base64\n",
    "    import json\n",
    "    from io import BytesIO\n",
    "\n",
    "    import matplotlib.pyplot as plt\n",
    "\n",
    "    plt.plot(range(int(epoch_num)), final_losses)\n",
    "\n",
    "    tmpfile = BytesIO()\n",
    "    plt.savefig(tmpfile, format=\"png\")\n",
    "    encoded = base64.b64encode(tmpfile.getvalue()).decode(\"utf-8\")\n",
    "\n",
    "    html = f\"<img src='data:image/png;base64,{encoded}'>\"\n",
    "    metadata = {\n",
    "        \"outputs\": [\n",
    "            {\n",
    "                \"type\": \"web-app\",\n",
    "                \"storage\": \"inline\",\n",
    "                \"source\": html,\n",
    "            },\n",
    "        ],\n",
    "    }\n",
    "        \n",
    "    with open(mlpipeline_ui_metadata, \"w\") as html_writer:\n",
    "        json.dump(metadata, html_writer)\n",
    "        "
   ]
  },
  {
   "cell_type": "markdown",
   "id": "769bfc1c-3bab-4ef7-b964-af5f33fa044f",
   "metadata": {},
   "source": [
    "### 3-3. 모델 검증 컴포넌트"
   ]
  },
  {
   "cell_type": "code",
   "execution_count": 7,
   "id": "ccc9cb03-04f4-48bb-896c-2144534c006f",
   "metadata": {
    "tags": []
   },
   "outputs": [],
   "source": [
    "def evaluate_Pytorch_Tabular_Model(\n",
    "    model_data_path: components.InputPath(str),\n",
    "    mlpipeline_ui_metadata: components.OutputPath(\"UI_Metadata\")\n",
    "):\n",
    "    import os\n",
    "    import torch \n",
    "    import torch.nn as nn\n",
    "    import pandas as pd\n",
    "    import numpy as np\n",
    "    import json\n",
    "    import pathlib\n",
    "    \n",
    "    device = torch.device('cpu')\n",
    "\n",
    "    if torch.cuda.is_available():\n",
    "        device = torch.device('cuda')\n",
    "        print(\"Train on GPU.\")\n",
    "    else:\n",
    "        print(\"No cuda available\")\n",
    "\n",
    "    print(model_data_path)\n",
    "    print(os.listdir(model_data_path))\n",
    "\n",
    "    class TabularModel(nn.Module):\n",
    "\n",
    "        def __init__(self, emb_sizes, n_cont, out_szs, layers, p=0.5):\n",
    "            super().__init__()\n",
    "\n",
    "            self.embeds = nn.ModuleList([nn.Embedding(ni, nf) for ni,nf in emb_sizes])\n",
    "            self.emb_drop = nn.Dropout(p)\n",
    "            self.bn_cont = nn.BatchNorm1d(n_cont)\n",
    "\n",
    "            layer_list = []\n",
    "            n_emb = sum([nf for ni,nf in emb_sizes])\n",
    "            n_in = n_emb + n_cont\n",
    "\n",
    "            for i in layers:\n",
    "                layer_list.append(nn.Linear(n_in, i))\n",
    "                layer_list.append(nn.ReLU(inplace=True))\n",
    "                layer_list.append(nn.BatchNorm1d(i))\n",
    "                layer_list.append(nn.Dropout(p))\n",
    "                n_in = i\n",
    "\n",
    "            layer_list.append(nn.Linear(layers[-1], out_szs))\n",
    "\n",
    "            self.layers = nn.Sequential(*layer_list)\n",
    "\n",
    "        def forward(self, x_cat, x_cont):\n",
    "            embeddings = []\n",
    "\n",
    "            for i,e in enumerate(self.embeds):\n",
    "                embeddings.append(e(x_cat[:,i]))\n",
    "\n",
    "            x = torch.cat(embeddings, 1)\n",
    "            x = self.emb_drop(x)\n",
    "\n",
    "            x_cont = self.bn_cont(x_cont)\n",
    "            x = torch.cat([x,x_cont], 1)\n",
    "            x = self.layers(x)\n",
    "\n",
    "            return x\n",
    "\n",
    "\n",
    "    criterion = nn.MSELoss()\n",
    "    emb_szs = [(24, 12), (2, 1), (7, 4)]\n",
    "    model = TabularModel(emb_szs, 6, 1, [200,100], p=0.4)\n",
    "    optimizer = torch.optim.Adam(model.parameters(), lr=0.01)\n",
    "    \n",
    "#     checkpoint = torch.load(os.path.join(model_data_path, 'taxi_model_pytorch.pt'), map_location=torch.device(device))\n",
    "    \n",
    "#     model.load_state_dict(checkpoint['model_state_dict'])\n",
    "#     optimizer.load_state_dict(checkpoint['optimizer_state_dict'])\n",
    "    \n",
    "#     epoch = checkpoint['epoch']\n",
    "#     loss = checkpoint['loss']\n",
    "    \n",
    "    model.load_state_dict(torch.load(os.path.join(model_data_path, 'model.pt')))\n",
    "    model.to(device)\n",
    "    \n",
    "    con_test = torch.load(os.path.join(model_data_path, 'con_test.pt'), map_location=torch.device(device))\n",
    "    print(\"con_test\", con_test)\n",
    "    cat_test = torch.load(os.path.join(model_data_path, 'cat_test.pt'), map_location=torch.device(device))\n",
    "    print(\"cat_test\", cat_test)\n",
    "    y_test = torch.load(os.path.join(model_data_path, 'y_test.pt'), map_location=torch.device(device))\n",
    "    print(\"y_test\", y_test)\n",
    "\n",
    "    \n",
    "    model.eval()\n",
    "    ### Evaluating our model on the test set\n",
    "    with torch.no_grad():\n",
    "        y_val = model(cat_test, con_test)\n",
    "        loss = torch.sqrt(criterion(y_val, y_test))\n",
    "\n",
    "    source_lst = [[\"PREDICTED VALUES\", \"TRUE VALUES\", \"DIFF\"]]\n",
    "    for i in range(20):\n",
    "        diff = np.abs(y_val[i].item()-y_test[i].item())\n",
    "        print(f'PREDICTED VALUES : {y_val[i].item():8.4f} TRUE VALUES : {y_test[i].item():8.2f} DIFF : {diff:8.2f}')\n",
    "        source_lst.append([y_val[i].item(), y_test[i].item(), diff])\n",
    "        \n",
    "    metadata = {\n",
    "        \"outputs\": [\n",
    "            {\n",
    "                \"type\": \"table\",\n",
    "                \"storage\": \"inline\",\n",
    "                'format': 'csv',\n",
    "                'header': source_lst[0],\n",
    "                \"source\": pd.DataFrame(source_lst[1:], columns=source_lst[0]).to_csv(header=False, index=False),\n",
    "            },\n",
    "        ],\n",
    "    }\n",
    "    \n",
    "    pathlib.Path(mlpipeline_ui_metadata).parent.mkdir(parents=True, exist_ok=True)\n",
    "    with open(mlpipeline_ui_metadata, \"w\") as html_writer:\n",
    "        json.dump(metadata, html_writer)\n",
    "        "
   ]
  },
  {
   "cell_type": "markdown",
   "id": "ae70c0e6-6b01-4919-89b9-f4c953921cf2",
   "metadata": {},
   "source": [
    "## 4. 파이프라인 생성"
   ]
  },
  {
   "cell_type": "markdown",
   "id": "dd836833",
   "metadata": {},
   "source": [
    "### 4-1. 컴포넌트 로드 및 생성"
   ]
  },
  {
   "cell_type": "code",
   "execution_count": 8,
   "id": "9aebacba-6c45-4136-bf90-15caed9a0937",
   "metadata": {
    "tags": []
   },
   "outputs": [],
   "source": [
    "nyc_taxi_dataset_op = components.load_component_from_file(f\"{TRAIN_PATH}/nyc_taxi_dataset_component.yaml\")\n",
    "\n",
    "torch_train_on_csv_op = components.create_component_from_func(\n",
    "    train_Pytorch_Tabular_Model, \n",
    "    output_component_file=f'{TRAIN_PATH}/test_train_component.yaml',\n",
    "    base_image=TRAIN_CR_IMAGE\n",
    ")\n",
    "\n",
    "evaluate_eval_op = components.create_component_from_func(\n",
    "    evaluate_Pytorch_Tabular_Model, \n",
    "    output_component_file=f'{TRAIN_PATH}/test_evaluate_component.yaml',\n",
    "    base_image=TRAIN_CR_IMAGE\n",
    ")"
   ]
  },
  {
   "cell_type": "markdown",
   "id": "059bec8b",
   "metadata": {},
   "source": [
    "### 4-2. 파이프라인 정의"
   ]
  },
  {
   "cell_type": "code",
   "execution_count": 9,
   "id": "2fc2022a-d993-416d-874d-b470948f36de",
   "metadata": {
    "tags": []
   },
   "outputs": [],
   "source": [
    "@dsl.pipeline(\n",
    "  name='NYC Taxi Pytorch ML pipeline',\n",
    "  description='An example pipeline.'\n",
    ")\n",
    "def nyc_taxi_pytorch_pipeline_w_cpu(\n",
    "    kc_kbm_os_train_url: str = 'https://objectstorage.kr-central-1.kakaoi.io/v1/c745e6650f0341a68bb73fa222e88e9b/kbm-files/guide_docs%2Fhands_on%2Fnyc_taxi_fare%2Fdata%2Ftrain.csv',\n",
    "    train_data_fnm: str = \"train.csv\",\n",
    "    epoch_num: str = \"100\"\n",
    "):\n",
    "    training_data = nyc_taxi_dataset_op(\n",
    "        kc_kbm_os_train_url=kc_kbm_os_train_url\n",
    "    ).set_cpu_request(cpu=\"1\").set_memory_request(memory=\"2G\")\n",
    "\n",
    "    model_trained_on_csv = torch_train_on_csv_op(\n",
    "        training_data.output,\n",
    "        train_data_fnm,\n",
    "        epoch_num\n",
    "    )\n",
    "    model_trained_on_csv.set_cpu_request(cpu=\"2\").set_memory_request(memory=\"8G\")\n",
    "    \n",
    "    eval_model = evaluate_eval_op(\n",
    "        model_trained_on_csv.output\n",
    "    )\n",
    "    eval_model.set_cpu_request(cpu=\"2\").set_memory_request(memory=\"8G\")"
   ]
  },
  {
   "cell_type": "markdown",
   "id": "17c7fe5f",
   "metadata": {},
   "source": [
    "### 4-3. 파이프라인 실행"
   ]
  },
  {
   "cell_type": "code",
   "execution_count": 10,
   "id": "e657b1b4-bcc5-497c-b654-b3906a6237e0",
   "metadata": {
    "tags": []
   },
   "outputs": [],
   "source": [
    "experiment_name = nyc_taxi_pytorch_pipeline_w_cpu.__name__ + ' test experiment'\n",
    "\n",
    "run_name = nyc_taxi_pytorch_pipeline_w_cpu.__name__ + ' run'\n",
    "\n",
    "arguments = {\n",
    "    \"epoch_num\": \"100\"\n",
    "}\n",
    "\n",
    "client.create_run_from_pipeline_func(\n",
    "    nyc_taxi_pytorch_pipeline_w_cpu, \n",
    "    experiment_name=experiment_name, \n",
    "    run_name=run_name, \n",
    "    arguments=arguments\n",
    ")"
   ]
  },
  {
   "cell_type": "code",
   "execution_count": null,
   "id": "6dab41bf-36d9-4c83-9466-80b934500f03",
   "metadata": {},
   "outputs": [],
   "source": []
  }
 ],
 "metadata": {
  "kernelspec": {
   "display_name": "Python 3",
   "language": "python",
   "name": "python3"
  },
  "language_info": {
   "codemirror_mode": {
    "name": "ipython",
    "version": 3
   },
   "file_extension": ".py",
   "mimetype": "text/x-python",
   "name": "python",
   "nbconvert_exporter": "python",
   "pygments_lexer": "ipython3",
   "version": "3.8.10"
  }
 },
 "nbformat": 4,
 "nbformat_minor": 5
}
