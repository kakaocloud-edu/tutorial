{
 "cells": [
  {
   "cell_type": "markdown",
   "id": "0c7a0dc3-234f-43ec-9dc8-e95bb80163f8",
   "metadata": {},
   "source": [
    "# 간단한 파이프라인 예제 실습\n",
    "\n",
    "## 1. 필요한 라이브러리를 import"
   ]
  },
  {
   "cell_type": "code",
   "execution_count": 26,
   "id": "9919e452-ae8b-44ac-ac9f-54ced4169df1",
   "metadata": {},
   "outputs": [],
   "source": [
    "import kfp\n",
    "from kfp.components import create_component_from_func\n",
    "from kfp.dsl import pipeline\n",
    "from kfp.compiler import Compiler\n",
    "import os\n",
    "from kakaocloud_kbm import KbmPipelineClient"
   ]
  },
  {
   "cell_type": "markdown",
   "id": "a8ad6fb6-c746-4358-bba7-c16505bafccb",
   "metadata": {},
   "source": [
    "## 2. Kubeflow Pipelines에 접속하기 위한 환경 변수를 설정"
   ]
  },
  {
   "cell_type": "code",
   "execution_count": 27,
   "id": "2f0c6297-eed3-490f-acd2-56332d1f0815",
   "metadata": {},
   "outputs": [],
   "source": [
    "os.environ[\"KUBEFLOW_HOST\"] = \"https://대시보드 접속한 로드밸런서의 Public IP/\"\n",
    "os.environ[\"KUBEFLOW_USERNAME\"] = \"Kubeflow 대시보드 접속 아이디(이메일)\"\n",
    "os.environ[\"KUBEFLOW_PASSWORD\"] = \"Kubeflow 대시보드 접속 비밀번호\""
   ]
  },
  {
   "cell_type": "markdown",
   "id": "d8242741-46d3-42cf-b16b-9d7f5fa12a00",
   "metadata": {},
   "source": [
    "## 3-1. 컴포넌트 정의 (덧셈 함수를 정의 후 Kubeflow 컴포넌트로 변환)"
   ]
  },
  {
   "cell_type": "code",
   "execution_count": 28,
   "id": "05e4d0f7-d777-4219-8066-62e31b0f10bc",
   "metadata": {},
   "outputs": [],
   "source": [
    "# 간단한 컴포넌트 정의\n",
    "def add(a: float, b: float) -> float:\n",
    "    return a + b\n",
    "\n",
    "# Kubeflow 컴포넌트로 변환\n",
    "add_op = create_component_from_func(add, base_image='python:3.8', packages_to_install=[])"
   ]
  },
  {
   "cell_type": "markdown",
   "id": "0cb19cd0-d125-494c-80b1-9a356fdbb997",
   "metadata": {},
   "source": [
    "## 3-2. 컴포넌트 정의 (곱셈 함수를 정의 후 Kubeflow 컴포넌트로 변환)"
   ]
  },
  {
   "cell_type": "code",
   "execution_count": 29,
   "id": "e01dbb73-509d-4879-84a7-d9efdbf172fd",
   "metadata": {},
   "outputs": [],
   "source": [
    "def multiply(a: float, b: float) -> float:\n",
    "    return a * b\n",
    "\n",
    "multiply_op = create_component_from_func(multiply, base_image='python:3.8', packages_to_install=[])"
   ]
  },
  {
   "cell_type": "markdown",
   "id": "e44feecf-9ce7-4a55-a5c0-ccce79b41597",
   "metadata": {},
   "source": [
    "## 4. 두 개의 컴포넌트를 이용하여 **파이프라인을 정의**"
   ]
  },
  {
   "cell_type": "code",
   "execution_count": 30,
   "id": "f3ddffac-1fa5-4838-90b0-b402ea0469a1",
   "metadata": {},
   "outputs": [],
   "source": [
    "@pipeline(name='Addition and Multiplication Pipeline', description='A simple pipeline that adds and multiplies numbers.')\n",
    "def math_pipeline(a: float , b: float , c: float ):\n",
    "    add_task = add_op(a, b)\n",
    "    multiply_task = multiply_op(add_task.output, c)"
   ]
  },
  {
   "cell_type": "markdown",
   "id": "5e7c2dfa-4081-410e-8c35-1a16f4f29204",
   "metadata": {},
   "source": [
    "## 5. 파이프라인을 정의한 후 이를 **컴파일**하여 YAML 파일로 저장"
   ]
  },
  {
   "cell_type": "code",
   "execution_count": null,
   "id": "4390cac9-5358-4883-a719-4c18da42aff3",
   "metadata": {},
   "outputs": [],
   "source": [
    "# 파이프라인 컴파일\n",
    "pipeline_file = 'math_pipeline.yaml'\n",
    "Compiler().compile(math_pipeline, pipeline_file)\n",
    "print(f\"Pipeline definition is saved to {pipeline_file}\")"
   ]
  },
  {
   "cell_type": "markdown",
   "id": "8217b3ad-6a3b-4973-b2cb-568657bfbde5",
   "metadata": {},
   "source": [
    "## 6. SDK를 통해 파이프라인을 실행\n",
    "실험 이름과 실행 이름을 정의하고, 파이프라인의 매개변수를 설정"
   ]
  },
  {
   "cell_type": "code",
   "execution_count": null,
   "id": "ed167675-9675-43ea-8a2f-b16dbf4fb77a",
   "metadata": {},
   "outputs": [],
   "source": [
    "experiment_name = math_pipeline.__name__ + ' test experiment'\n",
    "run_name = math_pipeline.__name__ + ' run'\n",
    "arguments = {\n",
    "    \"a\": 1,\n",
    "    \"b\": 2,\n",
    "    \"c\": 3\n",
    "}\n",
    "\n",
    "client = KbmPipelineClient()\n",
    "client.create_run_from_pipeline_func(\n",
    "    math_pipeline, \n",
    "    experiment_name=experiment_name, \n",
    "    run_name=run_name, \n",
    "    arguments=arguments\n",
    ")"
   ]
  }
 ],
 "metadata": {
  "kernelspec": {
   "display_name": "Python 3",
   "language": "python",
   "name": "python3"
  },
  "language_info": {
   "codemirror_mode": {
    "name": "ipython",
    "version": 3
   },
   "file_extension": ".py",
   "mimetype": "text/x-python",
   "name": "python",
   "nbconvert_exporter": "python",
   "pygments_lexer": "ipython3",
   "version": "3.8.10"
  }
 },
 "nbformat": 4,
 "nbformat_minor": 5
}
